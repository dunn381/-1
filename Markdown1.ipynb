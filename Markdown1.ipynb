{
 "cells": [
  {
   "cell_type": "markdown",
   "metadata": {},
   "source": [
    "<small><small><i>\n",
    "**Python Lectures**: including Basic Introduction for Python Running, Variable, Operators and Built-in Functions.\n",
    "</i></small></small>"
   ]
  },
  {
   "cell_type": "markdown",
   "metadata": {},
   "source": [
    "# Python-Lectures"
   ]
  },
  {
   "cell_type": "markdown",
   "metadata": {},
   "source": [
    "## Introduction\n",
    "\n",
    "Python is a modern, robust, high level programming language. It is very easy to pick up even if you are completely new to programming. \n",
    "\n",
    "Python, similar to other languages like matlab or R, is interpreted hence runs slowly compared to C++, Fortran or Java. However writing programs in Python is very quick. Python has a very large collection of libraries for everything from scientific computing to web services. It caters for object oriented and functional programming with module system that allows large and complex applications to be developed in Python. \n",
    "\n",
    "These lectures are using jupyter notebooks which mix Python code with documentation. The python notebooks can be run on a webserver or stand-alone on a computer.\n",
    "\n",
    "To give an indication of what Python code looks like, here is a simple bit of code that defines a set $N=\\{1,3,4,5,7\\}$ and calculates the sum of the squared elements of this set: $$\\sum_{i\\in N} i^2=100$$"
   ]
  },
  {
   "cell_type": "code",
   "execution_count": null,
   "metadata": {},
   "outputs": [],
   "source": [
    "N={1,3,4,5,7,8}\n",
    "print('The sum of ∑_i∈N i*i =',sum( i**2 for i in N ) )"
   ]
  },
  {
   "cell_type": "markdown",
   "metadata": {},
   "source": [
    "## Basic syntax for statements"
   ]
  },
  {
   "cell_type": "markdown",
   "metadata": {},
   "source": [
    "**代码书写规范**\n",
    "* 缩进\n",
    "  * 类定义、函数定义、选择结构、循环结构，行尾的冒号表示缩进的开始\n",
    "  * python程序是依靠代码块的缩进来体现代码之间的逻辑关系的，缩进结束就表示一个代码块结束了。\n",
    "  * 同一个级别的代码块的缩进量必须相同。\n",
    "  * Python是一门用空格缩进来区分代码层次的语言，其实Python并没有强制要求你用Tab缩进或者用空格缩进，甚至空格按几个都没有强制要求。但是，千万不要Tab和空格键混用，因为不同的编辑器对Tab键的解释是不同的，有的是默认4个空格，有的是8个。但空格永远是一致的!一般而言，以4个空格为基本缩进单位。\n",
    "* 注释\n",
    "  * 一个好的、可读性强的程序一般包含30%以上的注释。常用的注释方式主要有两种：\n",
    "    * 以#开始，表示本行#之后的内容为注释\n",
    "    * 包含在一对三引号'''...'''或\"\"\"...\"\"\"之间且不属于任何语句的内容将被解释器认为是注释\n",
    "* 必要的空格与空行\n",
    "  * 运算符两侧、函数参数之间（逗号右侧）建议使用空格分开。\n",
    "  * 不同功能的代码块之间、不同的函数定义之间建议增加一个空行以增加可读性。\n",
    "* import导入模块\n",
    "  * <u>import 模块的名称 </u><br>\n",
    "    * 可选一个或多个模块，之间用逗号隔开\n",
    "  * <u>from 模块A import * </u><br>\n",
    "    * 使用这种形式的import语句，调用模块A中的函数时不需要模块A.前缀\n",
    "  * 但是使用完整的名称会让代码更可读，所以最好是使用普通形式的import语句\n",
    "  ```Python\n",
    "  import re\n",
    "  re.compile(r'\\s*' + re.escape(symbol)\n",
    "  ```"
   ]
  },
  {
   "cell_type": "code",
   "execution_count": null,
   "metadata": {},
   "outputs": [],
   "source": [
    "\"\"\"\n",
    "-*- coding:utf-8 -*-\n",
    "Filename: CheckCodeFormats.py\n",
    "--------------------\n",
    "Function description:\n",
    "Check the code format of given Python source file\n",
    "--------------------\n",
    "Author: Dong Fuguo\n",
    "QQ: 306467355\n",
    "Email: dongfuguo2005@126.com\n",
    "--------------------\n",
    "Date: 2014-12-14\n",
    "--------------------\n",
    "\"\"\"\n",
    "\n",
    "import sys,re\n",
    "\n",
    "def checkFormats(lines, desFileName):\n",
    "\n",
    "    fp = open(desFileName, 'w')\n",
    "    \n",
    "    for i, line in enumerate(lines):\n",
    "        print('='*30)\n",
    "        print('Line:', i+1)\n",
    "        \n",
    "        if line.strip().startswith('#'):\n",
    "            print(' '*10+'Pass.')\n",
    "            fp.write(line)\n",
    "            continue\n",
    "        \n",
    "        flag = True\n",
    "        \n",
    "        #check operator symbols\n",
    "        symbols = [',', '+', '-', '*', '/', '//', '**', '>>', '<<', '+=', '-=', '*=', '/=']\n",
    "        temp_line = line\n",
    "        for symbol in symbols:\n",
    "            pattern = re.compile(r'\\s*'+re.escape(symbol)+r'\\s*')  #import re\n",
    "            temp_line = pattern.split(temp_line)\n",
    "            sep = ' '+symbol+' '\n",
    "            temp_line = sep.join(temp_line)\n",
    "        \n",
    "        if flag:\n",
    "            print(' '*10 + 'Pass.')\n",
    "        fp.write(line)\n",
    "    fp.close()\n",
    "            \n",
    "if __name__ == '__main__':\n",
    "    fileName = 'CheckCodeFormats.py'#sys.argv[1]\n",
    "    fileLines = []\n",
    "    with open(fileName, 'r') as fp:\n",
    "        fileLines = fp.readlines()\n",
    "    desFileName = fileName[:-3]+'_new.py'\n",
    "    checkFormats(fileLines, desFileName)\n",
    "\n",
    "    #check the ratio of comment lines to all lines\n",
    "    comments = [line for line in fileLines if line.strip().startswith('#')]\n",
    "    ratio = len(comments)*1.0/len(fileLines)\n",
    "    if ratio <= 0.3:\n",
    "        print('='*30)\n",
    "        print('Comments in the file is less than 30%.')\n",
    "        print('Perhaps you should add some comments at appropriate position.')\n"
   ]
  },
  {
   "cell_type": "markdown",
   "metadata": {},
   "source": [
    "**代码书写规范（续）**\n",
    "* 一个命令语句，多行显示\n",
    "  * 如果一行语句太长，可以在行尾加上\\来换行分成多行，但是更建议使用括号来包含多行内容。"
   ]
  },
  {
   "cell_type": "code",
   "execution_count": null,
   "metadata": {},
   "outputs": [],
   "source": [
    "1+2\n",
    "+3  #illegal continuation of the sum"
   ]
  },
  {
   "cell_type": "code",
   "execution_count": null,
   "metadata": {},
   "outputs": [],
   "source": [
    "1+2\\\n",
    "+3"
   ]
  },
  {
   "cell_type": "code",
   "execution_count": null,
   "metadata": {},
   "outputs": [],
   "source": [
    "(1+2\n",
    "             + 3) # perfectly OK even with spaces"
   ]
  },
  {
   "cell_type": "markdown",
   "metadata": {},
   "source": [
    "* 适当使用异常处理结构进行容错，后面将详细讲解。\n",
    "* 软件应具有较强的可测试性，测试与开发齐头并进，后面将详细讲解。"
   ]
  },
  {
   "cell_type": "markdown",
   "metadata": {},
   "source": [
    "## Python \"__name__\" Attribute\n",
    "* Every module in Python has a special attribute called __name__. \n",
    "* 每个Python脚本在运行时都有一个__name__属性。\n",
    "* The value of __name__ attribute is set to “__main__” when module is run as main program. Otherwise, the value of __name__ is set to contain the name of the module.\n",
    "* 如果脚本作为模块被导入，则其__name__属性被设置为模块名；如果脚本独立运行，则其__name__属性被设置为__main__。\n",
    "* **Example**: MyTCPSocket.py  # TCP client and server that leave too much data waiting"
   ]
  },
  {
   "cell_type": "markdown",
   "metadata": {},
   "source": [
    "## Structuring Python's Module Namespace\n",
    "\n",
    "编写自己的包与模块\n",
    "* 包可以看做处于同一目录中的模块。\n",
    "* 在包的每个目录中都必须包含一个\\_\\_init\\_\\_.py文件，该文件可以是一个空文件，仅用于表示该目录是一个包。\n",
    "* \\_\\_init\\_\\_.py文件的主要用途是设置\\_\\_all\\_\\_变量以及所包含的包初始化所需的代码。其中\\_\\_all\\_\\_变量中定义的对象可以在使用from … import * 时全部正确导入。\n",
    "\n",
    "例如： C:\\Users\\hui80s\\AppData\\Local\\Programs\\Python\\Python37\\Lib\\asyncio 或 <br>\n",
    "     C:\\Users\\hui80s\\AppData\\Local\\Programs\\Python\\Python37\\Lib\\dbm"
   ]
  },
  {
   "cell_type": "markdown",
   "metadata": {},
   "source": [
    "In simple terms, It is the the collection or group of data in a particular structure."
   ]
  },
  {
   "cell_type": "markdown",
   "metadata": {},
   "source": [
    "<center>\n",
    "<img src=\"https://gss0.baidu.com/-fo3dSag_xI4khGko9WTAnF6hhy/zhidao/wh%3D600%2C800/sign=8e722ffdf2f2b211e47b8d48fab04900/1c950a7b02087bf4949b1e67fbd3572c10dfcfcd.jpg\" width=\"75%\" height=\"75%\" />\n",
    "Figure 1. Relationship between package and module\n",
    "</center>"
   ]
  },
  {
   "cell_type": "markdown",
   "metadata": {},
   "source": [
    "## Python Built-in Objects：  \n",
    "内置对象：数字（整数、浮点数）、字符串、列表、字典、元组、文件、集合、布尔型、空类型（None）、函数（def）、类（class）\n",
    "\n",
    "<mark style=background-color:yellow>Python程序中处理的每样东西都是一种对象</mark>。在Python中不需要事先声明变量名及其类型，直接赋值即可\n",
    "\n",
    "对象分类如下表：（Category类别：数值、序列、映射、扩展、集合；Mutable: 是否可变）\n",
    "\n",
    "| Object type | Category | Mutable? |\n",
    "|---|---|---|\n",
    "| Numbers(all)  | Numeric | No |\n",
    "| Strings(all)  | Sequence | No |\n",
    "| Lists  | Sequence | Yes |\n",
    "| Dictionaries  | Mapping | Yes |\n",
    "| Tuples  | Sequence | No |\n",
    "| Files  | Extension | N/A |\n",
    "| Sets  | Set | Yes |\n",
    "| Frozenset  | Set | No |\n",
    "| bytearray  | Sequence | Yes |"
   ]
  },
  {
   "cell_type": "markdown",
   "metadata": {},
   "source": [
    "# Variables & Values"
   ]
  },
  {
   "cell_type": "markdown",
   "metadata": {},
   "source": [
    "A name that is used to denote something or a value is called a variable. In python, variables can be declared and values can be assigned to it as follows,"
   ]
  },
  {
   "cell_type": "code",
   "execution_count": null,
   "metadata": {},
   "outputs": [],
   "source": [
    "counter = 100          # 整型变量\n",
    "miles   = 1000.0       # 浮点型变量\n",
    "name    = \"runoob\"     # 字符串\n",
    "strname = 'Hey'\n",
    "print (counter)\n",
    "print (miles)\n",
    "print (name, strname)"
   ]
  },
  {
   "cell_type": "code",
   "execution_count": null,
   "metadata": {},
   "outputs": [],
   "source": [
    "x = y = 1\n",
    "print(id(x),id(y))  # id()用来返回变量所指值的内存地址"
   ]
  },
  {
   "cell_type": "code",
   "execution_count": null,
   "metadata": {},
   "outputs": [],
   "source": [
    "# 字符串和元组属于不可变序列\n",
    "x=(1,2,3)\n",
    "print(x)\n",
    "x[1]=5"
   ]
  },
  {
   "cell_type": "markdown",
   "metadata": {},
   "source": [
    "## Rules for naming variables\n",
    "变量命名\n",
    "1. 以字母或下划线（有特殊含义）开头\n",
    "2. 变量名中不能有空格以及标点符号（括号、引号、逗号、斜线、反斜线、冒号、句号、问号等等）\n",
    "3. 不要使用关键字（在keyword模块中）作变量名\n",
    "4. 不要使用系统内置的模块名或函数名（可以通过dir(__builtins__)查看）作变量名\n",
    "5. 大小写敏感\n"
   ]
  },
  {
   "cell_type": "markdown",
   "metadata": {},
   "source": [
    " ## Get the type of varialbe\n",
    " 判断变量类型"
   ]
  },
  {
   "cell_type": "code",
   "execution_count": null,
   "metadata": {},
   "outputs": [],
   "source": [
    "a = 111\n",
    "isinstance(a, int)"
   ]
  },
  {
   "cell_type": "code",
   "execution_count": null,
   "metadata": {},
   "outputs": [],
   "source": [
    "isinstance(b,complex)"
   ]
  },
  {
   "cell_type": "markdown",
   "metadata": {},
   "source": [
    "Difference between **'type()'** and **'isinstance()'**"
   ]
  },
  {
   "cell_type": "code",
   "execution_count": null,
   "metadata": {},
   "outputs": [],
   "source": [
    " class A:\n",
    "...     pass\n",
    " \n",
    " class B(A):\n",
    "...     pass\n",
    "isinstance(A(), A)\n"
   ]
  },
  {
   "cell_type": "code",
   "execution_count": null,
   "metadata": {},
   "outputs": [],
   "source": [
    "type(A()) == A "
   ]
  },
  {
   "cell_type": "code",
   "execution_count": null,
   "metadata": {},
   "outputs": [],
   "source": [
    "isinstance(B(), A)  #‘isinstance()’会认为：子类是父类的一种"
   ]
  },
  {
   "cell_type": "code",
   "execution_count": null,
   "metadata": {},
   "outputs": [],
   "source": [
    "type(B()) == A  #‘type()’不会认为：子类是父类的一种"
   ]
  },
  {
   "cell_type": "markdown",
   "metadata": {},
   "source": [
    "## keywords in Python"
   ]
  },
  {
   "cell_type": "code",
   "execution_count": null,
   "metadata": {},
   "outputs": [],
   "source": [
    "#查看Python的所有关键字\n",
    "import keyword\n",
    "print(keyword.kwlist)"
   ]
  },
  {
   "cell_type": "markdown",
   "metadata": {},
   "source": [
    "# Number\n",
    "The basic types build into Python include `float` (floating point numbers), `int` (integers), `str` (unicode character strings) and `bool` (boolean). Some examples of each:"
   ]
  },
  {
   "cell_type": "code",
   "execution_count": null,
   "metadata": {},
   "outputs": [],
   "source": [
    "2.0           # a simple floating point number\n",
    "1e100         # a googol \n",
    "-1234567890   # an integer\n",
    "True or False # the two possible boolean values"
   ]
  },
  {
   "cell_type": "markdown",
   "metadata": {},
   "source": [
    "Python also has complex numbers that can be written as follows. **Note** that the **brackets** are required."
   ]
  },
  {
   "cell_type": "code",
   "execution_count": null,
   "metadata": {},
   "outputs": [],
   "source": [
    "a=complex(1,2)\n",
    "b=(1+2J) # the same number as above\n",
    "print(a,b)\n",
    "print('The type of variable is:', type(a))\n",
    "print('real:',a.real, '   imag:',a.imag)"
   ]
  },
  {
   "cell_type": "markdown",
   "metadata": {},
   "source": [
    "# Strings\n",
    "Strings are amongst the most popular types in Python. We can create them simply by enclosing characters in quotes. Python treats single quotes the same as double quotes. Creating strings is as simple as assigning a value to a variable. \n",
    "\n",
    "用单引号、双引号或三引号括起来的符号系列称为字符串,单引号、双引号、三单引号、三双引号可以互相嵌套，用来表示复杂字符串。\n",
    "'abc'、'123'、'中国'、\"Python\""
   ]
  },
  {
   "cell_type": "code",
   "execution_count": null,
   "metadata": {},
   "outputs": [],
   "source": [
    "var1 = 'Hello World!'\n",
    "var2 = \"Python Programming\"\n",
    "print (\"var1[0]: \", var1[0])\n",
    "print (\"var2[1:5]: \", var2[1:5])\n",
    "print(\"Hello\",\"World\",sep='...',end='!!\\n')\n",
    "print(\"\"\"Triple quotes (also with '''), allow strings to break over multiple lines.\n",
    "Alternatively \\n is a newline character (\\t for tab, \\\\ is a single backslash)\"\"\")"
   ]
  },
  {
   "cell_type": "code",
   "execution_count": null,
   "metadata": {},
   "outputs": [],
   "source": [
    "testString[0]='兰' # Error"
   ]
  },
  {
   "cell_type": "markdown",
   "metadata": {},
   "source": [
    "* Accessing parts of strings"
   ]
  },
  {
   "cell_type": "code",
   "execution_count": null,
   "metadata": {},
   "outputs": [],
   "source": [
    "s = '123456789'\n",
    "print('First charcter of',s,'is',s[0])\n",
    "print('Last charcter of',s,'is',s[len(s)-1])\n",
    "print(s[0:9])\n",
    "print(s[::-1])\n",
    "print(s[-1:-6:-1])"
   ]
  },
  {
   "cell_type": "markdown",
   "metadata": {},
   "source": [
    "* Strings are immutable 字符串属于不可变序列类型"
   ]
  },
  {
   "cell_type": "code",
   "execution_count": null,
   "metadata": {},
   "outputs": [],
   "source": [
    "s='012345'\n",
    "sX=s[:2]+'X'+s[3:] # this creates a new string with 2 replaced by X\n",
    "print(\"creating new string\",sX,\"OK\")\n",
    "sX=s.replace('2','X') # the same thing\n",
    "print(sX,\"still OK\")\n",
    "\n",
    "s[2] = 'X'    # 字符串是不可变的，an error!!!"
   ]
  },
  {
   "cell_type": "markdown",
   "metadata": {},
   "source": [
    "* Strings can be treated as collections similar to lists and tuples."
   ]
  },
  {
   "cell_type": "code",
   "execution_count": null,
   "metadata": {},
   "outputs": [],
   "source": [
    "S = 'Taj Mahal is beautiful'\n",
    "print([x for x in S if x.islower()]) # list of lower case charactes\n",
    "words=S.split() # list of words\n",
    "print(\"Words are:\",words)\n",
    "print(\"--\".join(words)) # hyphenated \n",
    "\" \".join(w.capitalize() for w in words) # capitalise words"
   ]
  },
  {
   "cell_type": "markdown",
   "metadata": {},
   "source": [
    "## Escape Characters\n",
    "Following table is a list of escape or non-printable characters that can be represented with backslash notation.\n",
    "An escape character gets interpreted; in a single quoted as well as double quoted strings.\n",
    "\n",
    "转义符重点记住：`\\n`换行,`\\r`回车,`\\t`制表符,`\\\\`反斜杠字符,`\\'`引号字符,"
   ]
  },
  {
   "cell_type": "markdown",
   "metadata": {},
   "source": [
    "<table class=\"table table-bordered\" style=\"text-align:center;\">\n",
    "<tr>\n",
    "<th style=\"text-align:center;\">Backslash notation</th>\n",
    "<th style=\"text-align:center;\">Hexadecimal character</th>\n",
    "<th class=\"ts\">Description</th>\n",
    "</tr>\n",
    "<tr>\n",
    "<td>\\a</td>\n",
    "<td>0x07</td>\n",
    "<td>Bell or alert</td>\n",
    "</tr>\n",
    "<tr>\n",
    "<td>\\b</td>\n",
    "<td>0x08</td>\n",
    "<td>Backspace</td>\n",
    "</tr>\n",
    "<tr>\n",
    "<td>\\cx</td>\n",
    "<td></td>\n",
    "<td>Control-x</td>\n",
    "</tr>\n",
    "<tr>\n",
    "<td>\\C-x</td>\n",
    "<td></td>\n",
    "<td>Control-x</td>\n",
    "</tr>\n",
    "<tr>\n",
    "<td>\\e</td>\n",
    "<td>0x1b</td>\n",
    "<td>Escape</td>\n",
    "</tr>\n",
    "<tr>\n",
    "<td>\\f</td>\n",
    "<td>0x0c</td>\n",
    "<td>Formfeed</td>\n",
    "</tr>\n",
    "<tr>\n",
    "<td>\\M-\\C-x</td>\n",
    "<td></td>\n",
    "<td>Meta-Control-x</td>\n",
    "</tr>\n",
    "<tr>\n",
    "<td>\\n</td>\n",
    "<td>0x0a</td>\n",
    "<td>Newline</td>\n",
    "</tr>\n",
    "<tr>\n",
    "<td>\\nnn</td>\n",
    "<td></td>\n",
    "<td>Octal notation, where n is in the range 0.7</td>\n",
    "</tr>\n",
    "<tr>\n",
    "<td>\\r</td>\n",
    "<td>0x0d</td>\n",
    "<td>Carriage return</td>\n",
    "</tr>\n",
    "<tr>\n",
    "<td>\\s</td>\n",
    "<td>0x20</td>\n",
    "<td>Space</td>\n",
    "</tr>\n",
    "<tr>\n",
    "<td>\\t</td>\n",
    "<td>0x09</td>\n",
    "<td>Tab</td>\n",
    "</tr>\n",
    "<tr>\n",
    "<td>\\v</td>\n",
    "<td>0x0b</td>\n",
    "<td>Vertical tab</td>\n",
    "</tr>\n",
    "<tr>\n",
    "<td>\\x</td>\n",
    "<td></td>\n",
    "<td>Character x</td>\n",
    "</tr>\n",
    "<tr>\n",
    "<td style=\"vertical-align:middle;\">\\xnn</td>\n",
    "<td></td>\n",
    "<td>Hexadecimal notation, where n is in the range 0.9, a.f, or A.F</td>\n",
    "</tr>\n",
    "</table>"
   ]
  },
  {
   "cell_type": "code",
   "execution_count": null,
   "metadata": {},
   "outputs": [],
   "source": [
    "s='c:\\programs\\python\\test.txt'\n",
    "s"
   ]
  },
  {
   "cell_type": "code",
   "execution_count": null,
   "metadata": {},
   "outputs": [],
   "source": [
    "print(s)"
   ]
  },
  {
   "cell_type": "code",
   "execution_count": null,
   "metadata": {},
   "outputs": [],
   "source": [
    "s='c:\\\\programs\\\\python\\\\test.txt'\n",
    "print(s)"
   ]
  },
  {
   "cell_type": "markdown",
   "metadata": {},
   "source": [
    "<mark style=background-color:yellow> 使用“r”表示原始字符串，抑制转义</mark>"
   ]
  },
  {
   "cell_type": "code",
   "execution_count": null,
   "metadata": {},
   "outputs": [],
   "source": [
    "s=r'c:\\programs\\python\\test.txt' #“r”表示原始字符串，抑制转义\n",
    "print(s)"
   ]
  },
  {
   "cell_type": "markdown",
   "metadata": {},
   "source": [
    "区分：换行\\n & 回车\\r <br>\n",
    "将 \\r 后面的内容移到字符串开头，并逐一替换开头部分的字符，直至将 \\r 后面的内容完全替换完成。"
   ]
  },
  {
   "cell_type": "code",
   "execution_count": 42,
   "metadata": {},
   "outputs": [
    {
     "name": "stdout",
     "output_type": "stream",
     "text": [
      "Hello\r",
      "World!\n",
      "google runoob taobao\r",
      "123456\n",
      "Hello\n",
      "World!\n",
      "google runoob taobao\n",
      "123456\n"
     ]
    }
   ],
   "source": [
    "print(\"Hello\\rWorld!\")\n",
    "print('google runoob taobao\\r123456')\n",
    "print(\"Hello\\nWorld!\")\n",
    "print('google runoob taobao\\n123456')"
   ]
  },
  {
   "cell_type": "markdown",
   "metadata": {},
   "source": [
    "## String Formating"
   ]
  },
  {
   "cell_type": "markdown",
   "metadata": {},
   "source": [
    "### String Operators\n",
    "Python的一个重要特点：多态。加法、乘法不仅可以处理数字，字符串也可以、列表也可以使用‘+’，‘*’"
   ]
  },
  {
   "cell_type": "code",
   "execution_count": null,
   "metadata": {},
   "outputs": [],
   "source": [
    "a = \"Hello\"\n",
    "b = \"Python\"\n",
    " \n",
    "print(\"a + b 输出结果：\", a + b)\n",
    "print(\"a * 2 输出结果：\", a * 2)\n",
    "print(\"a[1] 输出结果：\", a[1])\n",
    "print(\"a[1:4] 输出结果：\", a[1:4])\n",
    " \n",
    "if( \"H\" in a) :\n",
    "    print(\"H 在变量 a 中\")\n",
    "else :\n",
    "    print(\"H 不在变量 a 中\")\n",
    " \n",
    "if( \"M\" not in a) :\n",
    "    print(\"M 不在变量 a 中\")\n",
    "else :\n",
    "    print(\"M 在变量 a 中\")\n",
    " \n",
    "print (r'\\n')\n",
    "print('\\n')\n",
    "print (R'\\n')"
   ]
  },
  {
   "cell_type": "markdown",
   "metadata": {},
   "source": [
    "Python: 优美的语言"
   ]
  },
  {
   "cell_type": "code",
   "execution_count": null,
   "metadata": {},
   "outputs": [],
   "source": [
    "print('----------------------------------------------------------------------')\n",
    "print('-'*60)"
   ]
  },
  {
   "cell_type": "markdown",
   "metadata": {},
   "source": [
    "### Normal String Formatting\n",
    "![字符串格式化](strformat.png \"字符串格式化\")\n",
    "* 常用格式字符   \n",
    "\n",
    "|格式字符|说明|\n",
    "|:------------:|----------------------------------------------------|\n",
    "|%s|字符串 (采用str()的显示)|\n",
    "|%r|字符串 (采用repr()的显示)|\n",
    "|%c|单个字符|\n",
    "|%b|二进制整数|\n",
    "|%d|十进制整数|\n",
    "|%i|十进制整数|\n",
    "|%o|八进制整数|\n",
    "|%x|十六进制整数|\n",
    "|%e|指数 (基底写为e)|\n",
    "|%E|指数 (基底写为E)|\n",
    "|%f、%F、%F|浮点数|\n",
    "|%g|指数(e)或浮点数 (根据显示长度)|\n",
    "|%G|指数(E)或浮点数 (根据显示长度)|\n",
    "|%%|字符\"%\"\"%\"|"
   ]
  },
  {
   "cell_type": "markdown",
   "metadata": {},
   "source": [
    "The **%** operator is used to format a string inserting the value that comes after. It relies on the string containing a format specifier that identifies where to insert the value. The most common types of format specifiers are:\n",
    "\n",
    "    - %s -> string\n",
    "    - %d -> Integer\n",
    "    - %f -> Float\n",
    "    - %o -> Octal\n",
    "    - %x -> Hexadecimal\n",
    "    - %e -> exponential"
   ]
  },
  {
   "cell_type": "code",
   "execution_count": null,
   "metadata": {},
   "outputs": [],
   "source": [
    "string1='World'\n",
    "print(\"Hello %s\" % string1)\n",
    "print(\"Actual Number = %d\" %18)\n",
    "print(\"Float of the number = %f\" %18)\n",
    "print(\"Octal equivalent of the number = %o\" %18)\n",
    "print(\"Hexadecimal equivalent of the number = %x\" %18)\n",
    "print(\"Exponential equivalent of the number = %e\" %18)\n",
    "print (\"My name is %s and weight is %d kg!\" % ('Zara', 21)) "
   ]
  },
  {
   "cell_type": "code",
   "execution_count": null,
   "metadata": {},
   "outputs": [],
   "source": [
    "para_str = \"\"\"this is a long string that is made up of several lines and \n",
    "non-printable characters such as TAB ( \\t ) and they will show up that way\n",
    "when displayed. NEWLINEs within the string, whether explicitly given like \n",
    "this within the brackets [ \\n ], or just a NEWLINE within the variable \n",
    "assignment will also show up. \"\"\" \n",
    "print (para_str)\n"
   ]
  },
  {
   "cell_type": "code",
   "execution_count": null,
   "metadata": {},
   "outputs": [],
   "source": [
    "print('Print width 10: |%10s|'%'x')\n",
    "print('Print width 10: |%-10s|'%'x') # left justified\n",
    "print(\"The number pi = %.2f to 2 decimal places\"%3.1415)\n",
    "print(\"More space pi = %10.2f\"%3.1415)\n",
    "print(\"Pad pi with 0 = %010.2f\"%3.1415) # pad with zeros"
   ]
  },
  {
   "cell_type": "markdown",
   "metadata": {},
   "source": [
    "### using .format method for formating\n",
    "* 使用format方法进行格式化，目前Python社区更推荐使用该方式进行格式化，该方法更灵活\n",
    "* 基本使用格式是：\n",
    "  * **<模板字符串>.format(param1,param2,param3...)**\n",
    "* <模板字符串>内的**格式槽**除了包括参数序号，还可以包括格式控制信息。此时，**槽**的内部样式如下：\n",
    "  * **{<参数序号>: <格式控制标记>}**\n",
    "*  其中，<格式控制标记>用来控制参数显示时的格式，包括：<br>\n",
    "***<填充><对齐><宽度><,><.精度><类型>***<br>\n",
    "6 个字段，这些字段都是可选的，可以组合使用，逐一介绍如下。\n",
    "\n",
    "| 字段 | 功能说明 |\n",
    "|---|---|\n",
    "| <宽度> | 输出字符宽度。<br>如果format()参数长度比<宽度>设定值大，则使用参数长度；<br>如果小于指定宽度，则位数将被默认以空格字符补充 |\n",
    "| <填充> | 指<宽度>内除了参数外的字符采用什么方式表示，<br>默认采用空格，可以通过<填充>更换 |\n",
    "| <对齐> | 指参数在<宽度>内输出时的对齐方式，<br>分别使用<、>和^三个符号表示左对齐、右对齐和居中对齐 |\n",
    "| < , > | 用于显示数字的千位分隔符 |\n",
    "| <.精度> | 由小数点（.）开头。<br>对于浮点数，精度表示小数部分输出的有效位数；<br>对于字符串，精度表示输出的最大长度 |\n",
    "| <类型> | 表示输出整数和浮点数类型的格式规则 |\n",
    "\n",
    "<类型><br>\n",
    "* b: 输出整数的二进制方式；\n",
    "* c: 输出整数对应的 Unicode 字符；\n",
    "* d: 输出整数的十进制方式；\n",
    "* o: 输出整数的八进制方式；\n",
    "* x: 输出整数的小写十六进制方式；\n",
    "* X: 输出整数的大写十六进制方式；\n",
    "* e: 输出浮点数对应的小写字母 e 的指数形式；\n",
    "* E: 输出浮点数对应的大写字母 E 的指数形式；\n",
    "* f: 输出浮点数的标准浮点形式；\n",
    "* %: 输出浮点数的百分形式。"
   ]
  },
  {
   "cell_type": "code",
   "execution_count": 3,
   "metadata": {},
   "outputs": [
    {
     "data": {
      "text/plain": [
       "'hello world'"
      ]
     },
     "execution_count": 3,
     "metadata": {},
     "output_type": "execute_result"
    }
   ],
   "source": [
    "\"{} {}\".format(\"hello\", \"world\")    # 不设置指定位置，按默认顺序"
   ]
  },
  {
   "cell_type": "code",
   "execution_count": 4,
   "metadata": {},
   "outputs": [
    {
     "data": {
      "text/plain": [
       "'hello world'"
      ]
     },
     "execution_count": 4,
     "metadata": {},
     "output_type": "execute_result"
    }
   ],
   "source": [
    "\"{0} {1}\".format(\"hello\", \"world\")  # 设置指定位置"
   ]
  },
  {
   "cell_type": "code",
   "execution_count": 5,
   "metadata": {},
   "outputs": [
    {
     "data": {
      "text/plain": [
       "'world hello world'"
      ]
     },
     "execution_count": 5,
     "metadata": {},
     "output_type": "execute_result"
    }
   ],
   "source": [
    "\"{1} {0} {1}\".format(\"hello\", \"world\")  # 设置指定位置"
   ]
  },
  {
   "cell_type": "code",
   "execution_count": 6,
   "metadata": {},
   "outputs": [
    {
     "name": "stdout",
     "output_type": "stream",
     "text": [
      "网站名：菜鸟教程, 地址 www.runoob.com\n"
     ]
    }
   ],
   "source": [
    "print(\"网站名：{name}, 地址 {url}\".\\\n",
    "      format(name=\"菜鸟教程\", url=\"www.runoob.com\"))"
   ]
  },
  {
   "cell_type": "code",
   "execution_count": 7,
   "metadata": {},
   "outputs": [
    {
     "name": "stdout",
     "output_type": "stream",
     "text": [
      "网站名：菜鸟教程, 地址 www.runoob.com\n"
     ]
    }
   ],
   "source": [
    "# 通过字典设置参数\n",
    "site = {\"name\": \"菜鸟教程\", \"url\": \"www.runoob.com\"}\n",
    "print(\"网站名：{name}, 地址 {url}\".format(**site))"
   ]
  },
  {
   "cell_type": "code",
   "execution_count": 8,
   "metadata": {},
   "outputs": [
    {
     "name": "stdout",
     "output_type": "stream",
     "text": [
      "网站名：菜鸟教程, 地址 www.runoob.com\n"
     ]
    }
   ],
   "source": [
    "# 通过列表索引设置参数\n",
    "my_list = ['菜鸟教程', 'www.runoob.com']\n",
    "print(\"网站名：{0[0]}, 地址 {0[1]}\".format(my_list))  # \"0\" 零是必须的"
   ]
  },
  {
   "cell_type": "code",
   "execution_count": 9,
   "metadata": {},
   "outputs": [
    {
     "name": "stdout",
     "output_type": "stream",
     "text": [
      "The number 5,555 in hex is: 0x15b3, the number 55 in oct is 0o67\n"
     ]
    }
   ],
   "source": [
    "print(\"The number {0:,} in hex is: {0:#x}, \\\n",
    "the number {1} in oct is {1:#o}\".format(5555,55))"
   ]
  },
  {
   "cell_type": "code",
   "execution_count": 10,
   "metadata": {},
   "outputs": [
    {
     "name": "stdout",
     "output_type": "stream",
     "text": [
      "The number 55 in hex is: 37, the number 5555 in oct is 12663\n"
     ]
    }
   ],
   "source": [
    "print(\"The number {1:,} in hex is: {1:x}, \\\n",
    "the number {0} in oct is {0:o}\".format(5555,55))"
   ]
  },
  {
   "cell_type": "markdown",
   "metadata": {},
   "source": [
    "## Built-in Functions of String"
   ]
  },
  {
   "cell_type": "markdown",
   "metadata": {},
   "source": [
    "### Exchange of Upper and Lower cases\n",
    "* s.capitalize()、s.title()、s.upper()、s.lower()、s.swapcase()"
   ]
  },
  {
   "cell_type": "code",
   "execution_count": 11,
   "metadata": {},
   "outputs": [
    {
     "name": "stdout",
     "output_type": "stream",
     "text": [
      "Abcd efg hijk lmn.\n",
      "Abcd Efg Hijk Lmn.\n",
      "ABCD EFG HIJK LMN.\n",
      "abcd efg hijk lmn.\n",
      "ABcd EFg HIJK LMN.\n"
     ]
    }
   ],
   "source": [
    "s='abCD efG hijk lmn.'\n",
    "print(s.capitalize())\n",
    "print(s.title())\n",
    "print(s.upper())\n",
    "print(s.lower())\n",
    "print(s.swapcase())"
   ]
  },
  {
   "cell_type": "markdown",
   "metadata": {},
   "source": [
    "### Returns a translation table / a translated string\n",
    "生成映射表函数maketrans和按映射表关系转换字符串函数translate"
   ]
  },
  {
   "cell_type": "code",
   "execution_count": 12,
   "metadata": {},
   "outputs": [
    {
     "data": {
      "text/plain": [
       "{97: 117,\n",
       " 98: 118,\n",
       " 99: 119,\n",
       " 100: 120,\n",
       " 101: 121,\n",
       " 102: 122,\n",
       " 49: 64,\n",
       " 50: 35,\n",
       " 51: 36}"
      ]
     },
     "execution_count": 12,
     "metadata": {},
     "output_type": "execute_result"
    }
   ],
   "source": [
    "table = str.maketrans(\"abcdef123\",\"uvwxyz@#$\")\n",
    "table"
   ]
  },
  {
   "cell_type": "code",
   "execution_count": 13,
   "metadata": {},
   "outputs": [
    {
     "data": {
      "text/plain": [
       "dict"
      ]
     },
     "execution_count": 13,
     "metadata": {},
     "output_type": "execute_result"
    }
   ],
   "source": [
    "type(table)"
   ]
  },
  {
   "cell_type": "code",
   "execution_count": 14,
   "metadata": {},
   "outputs": [
    {
     "data": {
      "text/plain": [
       "'Python is u gryuty progrumming lunguugy. I liky it!'"
      ]
     },
     "execution_count": 14,
     "metadata": {},
     "output_type": "execute_result"
    }
   ],
   "source": [
    "s=\"Python is a greate programming language. I like it!\"\n",
    "s.translate(table)"
   ]
  },
  {
   "cell_type": "markdown",
   "metadata": {},
   "source": [
    "### Trimmed and Justified version of the string\n",
    "删除、填充两端指定字符\n",
    "\n",
    "* strip()、rstrip()、lstrip()\n",
    "\n",
    "这几个方法分别用来删除两端、右端或左端的空格或连续的指定字符。\n",
    "\n",
    "* center()、ljust()、rjust()\n",
    "\n",
    "返回指定宽度的新字符串，原字符串居中、左对齐或右对齐出现在新字符串中，如果指定宽度大于字符串长度，则使用指定的字符（默认为空格）进行填充。"
   ]
  },
  {
   "cell_type": "code",
   "execution_count": 18,
   "metadata": {},
   "outputs": [
    {
     "name": "stdout",
     "output_type": "stream",
     "text": [
      "|         Hello World          |\n",
      "|lots of space|\n"
     ]
    }
   ],
   "source": [
    "# center in 30 characters\n",
    "print('|%s|' % \"Hello World\".center(30)) \n",
    "# remove leading and trailing whitespace\n",
    "print('|%s|'% \"     lots of space             \".strip()) "
   ]
  },
  {
   "cell_type": "code",
   "execution_count": 19,
   "metadata": {},
   "outputs": [
    {
     "data": {
      "text/plain": [
       "'ssddf'"
      ]
     },
     "execution_count": 19,
     "metadata": {},
     "output_type": "execute_result"
    }
   ],
   "source": [
    "\"aaaassddf\".strip(\"a\")"
   ]
  },
  {
   "cell_type": "code",
   "execution_count": 20,
   "metadata": {},
   "outputs": [
    {
     "data": {
      "text/plain": [
       "'ssdd'"
      ]
     },
     "execution_count": 20,
     "metadata": {},
     "output_type": "execute_result"
    }
   ],
   "source": [
    "\"aaaaffssddfafaf\".strip(\"af\")"
   ]
  },
  {
   "cell_type": "code",
   "execution_count": 21,
   "metadata": {},
   "outputs": [
    {
     "data": {
      "text/plain": [
       "'aaaassddf'"
      ]
     },
     "execution_count": 21,
     "metadata": {},
     "output_type": "execute_result"
    }
   ],
   "source": [
    "\"aaaassddfaaa\".rstrip(\"a\")"
   ]
  },
  {
   "cell_type": "code",
   "execution_count": 22,
   "metadata": {},
   "outputs": [
    {
     "data": {
      "text/plain": [
       "'ssddfaaa'"
      ]
     },
     "execution_count": 22,
     "metadata": {},
     "output_type": "execute_result"
    }
   ],
   "source": [
    "\"aaaassddfaaa\".lstrip(\"a\")"
   ]
  },
  {
   "cell_type": "code",
   "execution_count": 23,
   "metadata": {},
   "outputs": [
    {
     "data": {
      "text/plain": [
       "'    Hello world!    '"
      ]
     },
     "execution_count": 23,
     "metadata": {},
     "output_type": "execute_result"
    }
   ],
   "source": [
    "'Hello world!'.center(20)"
   ]
  },
  {
   "cell_type": "code",
   "execution_count": 24,
   "metadata": {},
   "outputs": [
    {
     "data": {
      "text/plain": [
       "'----Hello world!----'"
      ]
     },
     "execution_count": 24,
     "metadata": {},
     "output_type": "execute_result"
    }
   ],
   "source": [
    "'Hello world!'.center(20,'-')"
   ]
  },
  {
   "cell_type": "code",
   "execution_count": 25,
   "metadata": {},
   "outputs": [
    {
     "data": {
      "text/plain": [
       "'Hello world!========'"
      ]
     },
     "execution_count": 25,
     "metadata": {},
     "output_type": "execute_result"
    }
   ],
   "source": [
    "'Hello world!'.ljust(20,'=')"
   ]
  },
  {
   "cell_type": "code",
   "execution_count": 26,
   "metadata": {},
   "outputs": [
    {
     "data": {
      "text/plain": [
       "'========Hello world!'"
      ]
     },
     "execution_count": 26,
     "metadata": {},
     "output_type": "execute_result"
    }
   ],
   "source": [
    "'Hello world!'.rjust(20,'=')"
   ]
  },
  {
   "cell_type": "markdown",
   "metadata": {},
   "source": [
    "### Searching \n",
    "字符串中查找另一个字符串\n",
    "\n",
    "* find( )、rfind()、index()、rindex()、count()\n",
    "\n",
    "find()和rfind方法分别用来查找一个字符串在另一个字符串指定范围（默认是整个字符串）中首次和最后一次出现的位置，如果不存在则返回-1；\n",
    "\n",
    "index()和rindex()方法用来返回一个字符串在另一个字符串指定范围中首次和最后一次出现的位置，如果不存在则抛出异常；\n",
    "\n",
    "count()方法用来返回一个字符串在另一个字符串中出现的次数。"
   ]
  },
  {
   "cell_type": "code",
   "execution_count": 27,
   "metadata": {},
   "outputs": [
    {
     "name": "stdout",
     "output_type": "stream",
     "text": [
      "The length of 'Hello World' is 11 characters\n",
      "There are 3 'l's but only 1 World in Hello World\n",
      "\"el\" is at index 1 in Hello World\n"
     ]
    }
   ],
   "source": [
    "s=\"Hello World\"\n",
    "print(\"The length of '%s' is\"%s,len(s),\"characters\") # len() gives length\n",
    "s.startswith(\"Hello\") and s.endswith(\"World\") # check start/end\n",
    "# count strings\n",
    "print(\"There are %d 'l's but only %d World in %s\" % (s.count('l'),s.count('World'),s))\n",
    "print('\"el\" is at index',s.find('el'),\"in\",s) #index from 0 or -1"
   ]
  },
  {
   "cell_type": "code",
   "execution_count": 28,
   "metadata": {},
   "outputs": [
    {
     "data": {
      "text/plain": [
       "True"
      ]
     },
     "execution_count": 28,
     "metadata": {},
     "output_type": "execute_result"
    }
   ],
   "source": [
    "'abc' < 'bbc' <= 'bbc'"
   ]
  },
  {
   "cell_type": "code",
   "execution_count": 29,
   "metadata": {},
   "outputs": [
    {
     "data": {
      "text/plain": [
       "True"
      ]
     },
     "execution_count": 29,
     "metadata": {},
     "output_type": "execute_result"
    }
   ],
   "source": [
    "\"ABC\" in \"This is the ABC of Python\""
   ]
  },
  {
   "cell_type": "markdown",
   "metadata": {},
   "source": [
    "### Spliting with specified separator\n",
    "分隔符分割\n",
    "\n",
    "* split()、rsplit()、partition()、rpartition()\n",
    "\n",
    "split()和rsplit()方法分别用来以指定字符为分隔符，将字符串左端和右端开始将其分割成多个字符串，并返回包含分割结果的列表；\n",
    "\n",
    "partition()和rpartition()用来以指定字符串为分隔符将原字符串分割为3部分，即分隔符前的字符串、分隔符字符串、分隔符后的字符串，如果指定的分隔符不在原字符串中，则返回原字符串和两个空字符串。\n",
    "\n",
    "对于split()和rsplit()方法，如果不指定分隔符，则字符串中的任何空白符号（包括空格、换行符、制表符等等）都将被认为是分隔符，返回包含最终分割结果的列表。"
   ]
  },
  {
   "cell_type": "code",
   "execution_count": 30,
   "metadata": {},
   "outputs": [
    {
     "data": {
      "text/plain": [
       "['apple', 'peach', 'banana', 'pear']"
      ]
     },
     "execution_count": 30,
     "metadata": {},
     "output_type": "execute_result"
    }
   ],
   "source": [
    "s=\"apple,peach,banana,pear\"\n",
    "li=s.split(\",\")\n",
    "li"
   ]
  },
  {
   "cell_type": "code",
   "execution_count": 31,
   "metadata": {},
   "outputs": [
    {
     "data": {
      "text/plain": [
       "('apple', ',', 'peach,banana,pear')"
      ]
     },
     "execution_count": 31,
     "metadata": {},
     "output_type": "execute_result"
    }
   ],
   "source": [
    "s.partition(',')"
   ]
  },
  {
   "cell_type": "markdown",
   "metadata": {},
   "source": [
    "### Other Methods:"
   ]
  },
  {
   "cell_type": "markdown",
   "metadata": {},
   "source": [
    "* 字符串联接join( )\n",
    "* 不推荐使用+连接字符串，优先使用join()方法"
   ]
  },
  {
   "cell_type": "code",
   "execution_count": 32,
   "metadata": {},
   "outputs": [
    {
     "data": {
      "text/plain": [
       "'apple,peach,banana,pear'"
      ]
     },
     "execution_count": 32,
     "metadata": {},
     "output_type": "execute_result"
    }
   ],
   "source": [
    "li=[\"apple\", \"peach\", \"banana\", \"pear\"]\n",
    "s=\",\".join(li)\n",
    "s"
   ]
  },
  {
   "cell_type": "markdown",
   "metadata": {},
   "source": [
    "* 查找替换replace( )"
   ]
  },
  {
   "cell_type": "code",
   "execution_count": 34,
   "metadata": {},
   "outputs": [
    {
     "name": "stdout",
     "output_type": "stream",
     "text": [
      "Hello Python\n",
      "hello wOrld\n"
     ]
    }
   ],
   "source": [
    "print(\"Hello World\".replace(\"World\",\"Python\"))"
   ]
  },
  {
   "cell_type": "markdown",
   "metadata": {},
   "source": [
    "* 内置函数eval():字符串本身作为执行命令执行"
   ]
  },
  {
   "cell_type": "code",
   "execution_count": 35,
   "metadata": {},
   "outputs": [
    {
     "data": {
      "text/plain": [
       "7"
      ]
     },
     "execution_count": 35,
     "metadata": {},
     "output_type": "execute_result"
    }
   ],
   "source": [
    "eval(\"3+4\")"
   ]
  },
  {
   "cell_type": "code",
   "execution_count": 36,
   "metadata": {},
   "outputs": [
    {
     "data": {
      "text/plain": [
       "9"
      ]
     },
     "execution_count": 36,
     "metadata": {},
     "output_type": "execute_result"
    }
   ],
   "source": [
    "eval('pow(3,2)')"
   ]
  },
  {
   "cell_type": "code",
   "execution_count": 37,
   "metadata": {},
   "outputs": [
    {
     "name": "stdout",
     "output_type": "stream",
     "text": [
      "Please input an order:3+4\n"
     ]
    },
    {
     "data": {
      "text/plain": [
       "7"
      ]
     },
     "execution_count": 37,
     "metadata": {},
     "output_type": "execute_result"
    }
   ],
   "source": [
    "# eval有风险，使用请注意\n",
    "a = input(\"Please input an order:\")\n",
    "eval(a)"
   ]
  },
  {
   "cell_type": "markdown",
   "metadata": {},
   "source": [
    "* 成员判断 in"
   ]
  },
  {
   "cell_type": "code",
   "execution_count": null,
   "metadata": {},
   "outputs": [],
   "source": [
    "\"a\" in \"abcde\""
   ]
  },
  {
   "cell_type": "code",
   "execution_count": null,
   "metadata": {},
   "outputs": [],
   "source": [
    "\"j\" in \"abcde\""
   ]
  },
  {
   "cell_type": "markdown",
   "metadata": {},
   "source": [
    "* 判断字符串是否以指定字符串开始或结束 s.startswith(t)、s.endswith(t)"
   ]
  },
  {
   "cell_type": "code",
   "execution_count": 38,
   "metadata": {},
   "outputs": [
    {
     "data": {
      "text/plain": [
       "False"
      ]
     },
     "execution_count": 38,
     "metadata": {},
     "output_type": "execute_result"
    }
   ],
   "source": [
    "'good morning'.startswith('bood')"
   ]
  },
  {
   "cell_type": "code",
   "execution_count": 39,
   "metadata": {},
   "outputs": [
    {
     "data": {
      "text/plain": [
       "True"
      ]
     },
     "execution_count": 39,
     "metadata": {},
     "output_type": "execute_result"
    }
   ],
   "source": [
    "'good news'.startswith(('good','bad'))"
   ]
  },
  {
   "cell_type": "code",
   "execution_count": 40,
   "metadata": {},
   "outputs": [
    {
     "data": {
      "text/plain": [
       "['.ipynb_checkpoints',\n",
       " 'Markdown1.ipynb',\n",
       " 'Markdown2.ipynb',\n",
       " 'Markdown3.ipynb',\n",
       " 'Markdown4.ipynb',\n",
       " 'pacagemodules.jpg',\n",
       " 'strformat.png']"
      ]
     },
     "execution_count": 40,
     "metadata": {},
     "output_type": "execute_result"
    }
   ],
   "source": [
    "import os\n",
    "os.listdir(r'.')"
   ]
  },
  {
   "cell_type": "code",
   "execution_count": null,
   "metadata": {},
   "outputs": [],
   "source": [
    "[filename for filename in os.listdir(r'.') \\\n",
    " if filename.endswith(('.bmp','.jpg','.gif','.png'))]"
   ]
  },
  {
   "cell_type": "markdown",
   "metadata": {},
   "source": [
    "* encode() 方法以指定的编码格式编码字符串，errors参数可以指定不同的错误处理方案\n",
    "* decode() 方法以指定的编码格式解码 bytes 对象，默认编码为 'utf-8'"
   ]
  },
  {
   "cell_type": "code",
   "execution_count": null,
   "metadata": {},
   "outputs": [],
   "source": [
    "s='Python is a greate programming language. I like it!'\n",
    "s_en=s.encode(encoding='UTF-8',errors='strict')\n",
    "s_en"
   ]
  },
  {
   "cell_type": "code",
   "execution_count": null,
   "metadata": {},
   "outputs": [],
   "source": [
    "s_en.decode(encoding='UTF-8',errors='strict')"
   ]
  },
  {
   "cell_type": "markdown",
   "metadata": {},
   "source": [
    "# Operators\n",
    "\n",
    "Python语言支持以下类型的运算符:\n",
    "* 算术运算符\n",
    "* 比较（关系）运算符\n",
    "* 赋值运算符\n",
    "* 逻辑运算符\n",
    "* 位运算符\n",
    "* 成员运算符\n",
    "* 身份运算符\n",
    "* 运算符优先级"
   ]
  },
  {
   "cell_type": "markdown",
   "metadata": {},
   "source": [
    "## Arithmetic Operators"
   ]
  },
  {
   "cell_type": "markdown",
   "metadata": {},
   "source": [
    "| Symbol | Task Performed |\n",
    "|----|---|\n",
    "| +  | Addition |\n",
    "| -  | Subtraction |\n",
    "| /  | division |\n",
    "| %  | mod |\n",
    "| *  | multiplication |\n",
    "| //  | floor division |\n",
    "| **  | to the power of |"
   ]
  },
  {
   "cell_type": "markdown",
   "metadata": {},
   "source": [
    "## Relational Operators"
   ]
  },
  {
   "cell_type": "markdown",
   "metadata": {},
   "source": [
    "| Symbol | Task Performed |\n",
    "|----|---|\n",
    "| == | True, if it is equal |\n",
    "| !=  | True, if not equal to |\n",
    "| < | less than |\n",
    "| > | greater than |\n",
    "| <=  | less than or equal to |\n",
    "| >=  | greater than or equal to |\n",
    "\n",
    "Note the difference between `==` (equality test) and `=` (assignment)"
   ]
  },
  {
   "cell_type": "markdown",
   "metadata": {},
   "source": [
    "## Boolean and Bitwise Operators"
   ]
  },
  {
   "cell_type": "code",
   "execution_count": null,
   "metadata": {},
   "outputs": [],
   "source": [
    "a=30\n",
    "b=3\n",
    "print('a and b = ', a and b,\"=\",bin(a and b))\n",
    "print('a or b = ', a or b,\"=\",bin(a or b))\n",
    "print('not a = ', not a,\"=\",bin(not a))\n",
    "#print('b in a = ', b in a)\n",
    "#print('not a = ', a and b,\"=\",bin(a&b))\n",
    "#print('not a = ', a and b)"
   ]
  },
  {
   "cell_type": "code",
   "execution_count": null,
   "metadata": {},
   "outputs": [],
   "source": [
    "a = 2 #binary: 10\n",
    "b = 3 #binary: 11\n",
    "print('a & b =',a & b,\"=\",bin(a&b)) #与\n",
    "print('a | b =',a | b,\"=\",bin(a|b)) #或\n",
    "print('a ^ b =',a ^ b,\"=\",bin(a^b)) #异或"
   ]
  },
  {
   "cell_type": "code",
   "execution_count": null,
   "metadata": {},
   "outputs": [],
   "source": [
    "print( not (True and False), \"==\", not True or not False)"
   ]
  },
  {
   "cell_type": "markdown",
   "metadata": {},
   "source": [
    "# Built-in Functions"
   ]
  },
  {
   "cell_type": "markdown",
   "metadata": {},
   "source": [
    "Python comes with a wide range of functions. However many of these are part of stanard libraries like the `math` library rather than built-in.\n",
    "\n",
    "* 内置函数不需要导入任何模块即可使用\n",
    "* 执行下面的命令可以列出所有内置函数"
   ]
  },
  {
   "cell_type": "code",
   "execution_count": null,
   "metadata": {},
   "outputs": [],
   "source": [
    "dir(__builtins__)"
   ]
  },
  {
   "cell_type": "markdown",
   "metadata": {},
   "source": [
    "## Converting values\n",
    "\n",
    "Conversion from hexadecimal to decimal is done by adding prefix **0x** to the hexadecimal value or vice versa by using built in **hex( )**, Octal to decimal by adding prefix **0** to the octal value or vice versa by using built in function **oct( )**."
   ]
  },
  {
   "cell_type": "code",
   "execution_count": 43,
   "metadata": {},
   "outputs": [
    {
     "data": {
      "text/plain": [
       "'0xaa'"
      ]
     },
     "execution_count": 43,
     "metadata": {},
     "output_type": "execute_result"
    }
   ],
   "source": [
    "hex(170)"
   ]
  },
  {
   "cell_type": "code",
   "execution_count": 44,
   "metadata": {},
   "outputs": [
    {
     "data": {
      "text/plain": [
       "170"
      ]
     },
     "execution_count": 44,
     "metadata": {},
     "output_type": "execute_result"
    }
   ],
   "source": [
    "0xAA"
   ]
  },
  {
   "cell_type": "markdown",
   "metadata": {},
   "source": [
    "int( ) converts a number to an integer. This can be a single floating point number, integer or a string. For strings the base can optionally be specified:"
   ]
  },
  {
   "cell_type": "code",
   "execution_count": 45,
   "metadata": {},
   "outputs": [
    {
     "name": "stdout",
     "output_type": "stream",
     "text": [
      "7 7 7\n"
     ]
    }
   ],
   "source": [
    "print(int(7.7), int('111',2),int('7'))"
   ]
  },
  {
   "cell_type": "markdown",
   "metadata": {},
   "source": [
    "Similarly, the function str( ) can be used to convert almost anything to a string"
   ]
  },
  {
   "cell_type": "code",
   "execution_count": 46,
   "metadata": {},
   "outputs": [
    {
     "name": "stdout",
     "output_type": "stream",
     "text": [
      "True 1.2345678 -2\n"
     ]
    }
   ],
   "source": [
    "print(str(True),str(1.2345678),str(-2))"
   ]
  },
  {
   "cell_type": "markdown",
   "metadata": {},
   "source": [
    "## Encoding and Decoding"
   ]
  },
  {
   "cell_type": "code",
   "execution_count": 47,
   "metadata": {},
   "outputs": [
    {
     "name": "stdout",
     "output_type": "stream",
     "text": [
      "ord(A) is  65 , and the type is  <class 'int'>\n",
      "chr(65) is  A , and the type is  <class 'str'>\n"
     ]
    }
   ],
   "source": [
    "ans=ord('A') #Unicode\n",
    "print(\"ord(A) is \",ans, \", and the type is \", type(ans) )\n",
    "ans=chr(65) #Unicode\n",
    "print(\"chr(65) is \",ans, \", and the type is \", type(ans))"
   ]
  },
  {
   "cell_type": "markdown",
   "metadata": {},
   "source": [
    "## delete objects"
   ]
  },
  {
   "cell_type": "code",
   "execution_count": null,
   "metadata": {},
   "outputs": [],
   "source": [
    "x=[1,2,3]\n",
    "print(x)\n",
    "del x\n",
    "print(x)"
   ]
  },
  {
   "cell_type": "markdown",
   "metadata": {},
   "source": [
    "## Simplifying Arithmetic Operations"
   ]
  },
  {
   "cell_type": "markdown",
   "metadata": {},
   "source": [
    "**round( )** function rounds the input value to a specified number of places or to the nearest integer. "
   ]
  },
  {
   "cell_type": "code",
   "execution_count": null,
   "metadata": {},
   "outputs": [],
   "source": [
    "print( round(5.6231) )\n",
    "print( round(4.55892, 2) )"
   ]
  },
  {
   "cell_type": "markdown",
   "metadata": {},
   "source": [
    "**divmod(x,y)** outputs the quotient and the remainder in a tuple(you will be learning about it in the further chapters) in the format (quotient, remainder)."
   ]
  },
  {
   "cell_type": "code",
   "execution_count": null,
   "metadata": {},
   "outputs": [],
   "source": [
    "divmod(9,2)"
   ]
  },
  {
   "cell_type": "markdown",
   "metadata": {},
   "source": [
    "**常用内置函数**"
   ]
  },
  {
   "cell_type": "markdown",
   "metadata": {},
   "source": [
    "| Functions | Task Performed |\n",
    "|----|---|\n",
    "| abs(x)\t| 返回数字x的绝对值|\n",
    "| bin(x)\t| 把数字x转换为二进制串|\n",
    "| chr(x)\t| 返回编码为x的字符|\n",
    "| eval(s[, globals[, locals]])\t| 计算字符串中表达式的值并返回|\n",
    "| float(x)\t| 把数字或字符串x转换为浮点数并返回|\n",
    "| help(obj)\t| 返回对象obj的帮助信息|\n",
    "| hex(x)\t| 把数字x转换为十六进制串|\n",
    "| id(obj)\t| 返回对象obj的标识|\n",
    "| input([提示串])\t| 接受键盘输入，返回字符串|\n",
    "| len(obj)\t| 返回对象obj包含的元素个数|\n",
    "| oct(x)\t| 把数字x转换为八进制串|\n",
    "| ord(s)\t| 返回1个字符s的编码。chr(ord('3')+1)==>'4'|\n",
    "| range([start, ] end [, step] )\t| 返回一个等差数列，不包括终值|\n",
    "| round(x [, 小数位数])\t| 对x进行四舍五入。若不指定小数位数，则返回整数。|\n",
    "| str(obj)\t| 把对象obj转换为字符串|\n",
    "| int(x[,d])\t| 返回数字整数部分，或把d进制的字符串x转换为十进制并返回，d默认为十进制|\n",
    "| list(x), set([obj]),tuple(x)\t| 把对象转换为列表、集合或元组并返回|\n",
    "| max(x), min(x), sum(x)\t| 返回序列中的最大值、最小值或数值之和|\n",
    "| pow(x,y)\t| 返回x的y次方|\n",
    "| sorted(列表[,cmp[,key[reverse]]]\t| 返回排序后的列表|\n",
    "| type(obj)\t| 返回对象obj的类型|\n"
   ]
  },
  {
   "cell_type": "markdown",
   "metadata": {},
   "source": [
    "## Accepting User Inputs"
   ]
  },
  {
   "cell_type": "markdown",
   "metadata": {},
   "source": [
    "**input(prompt)**,  prompts for and returns input as a string. A useful function to use in conjunction with this is **eval()** which takes a string and evaluates it as a python expression."
   ]
  },
  {
   "cell_type": "code",
   "execution_count": null,
   "metadata": {},
   "outputs": [],
   "source": [
    "abc =  input(\"abc = \")\n",
    "abcValue=eval(abc+'+2')\n",
    "print(abc,'+ 2 = ',abcValue)"
   ]
  }
 ],
 "metadata": {
  "kernelspec": {
   "display_name": "Python 3",
   "language": "python",
   "name": "python3"
  },
  "language_info": {
   "codemirror_mode": {
    "name": "ipython",
    "version": 3
   },
   "file_extension": ".py",
   "mimetype": "text/x-python",
   "name": "python",
   "nbconvert_exporter": "python",
   "pygments_lexer": "ipython3",
   "version": "3.7.0"
  },
  "latex_envs": {
   "LaTeX_envs_menu_present": true,
   "autoclose": false,
   "autocomplete": true,
   "bibliofile": "biblio.bib",
   "cite_by": "apalike",
   "current_citInitial": 1,
   "eqLabelWithNumbers": true,
   "eqNumInitial": 1,
   "hotkeys": {
    "equation": "Ctrl-E",
    "itemize": "Ctrl-I"
   },
   "labels_anchors": false,
   "latex_user_defs": false,
   "report_style_numbering": false,
   "user_envs_cfg": false
  },
  "toc": {
   "base_numbering": 1,
   "nav_menu": {},
   "number_sections": true,
   "sideBar": true,
   "skip_h1_title": false,
   "title_cell": "Table of Contents",
   "title_sidebar": "Contents",
   "toc_cell": false,
   "toc_position": {
    "height": "calc(100% - 180px)",
    "left": "10px",
    "top": "150px",
    "width": "237.547px"
   },
   "toc_section_display": true,
   "toc_window_display": true
  }
 },
 "nbformat": 4,
 "nbformat_minor": 2
}

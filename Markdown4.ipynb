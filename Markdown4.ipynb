{
 "cells": [
  {
   "cell_type": "markdown",
   "metadata": {},
   "source": [
    "<small><small><i>\n",
    "**Python Lectures**: including RegEx in Python, Regular Expression Pattern and Applications, and Classes.\n",
    "</i></small></small>"
   ]
  },
  {
   "cell_type": "markdown",
   "metadata": {},
   "source": [
    "# RegEx in Python"
   ]
  },
  {
   "cell_type": "markdown",
   "metadata": {},
   "source": [
    "## Regular Expression\n",
    "**前言：**<br>\n",
    "* 最早的字符串编码是美国标准信息交换码ASCII，仅对10个数字、26个大写字英文字母、26个小写字英文字母及一些其它符号进行了编码。ASCII采用8位即1个字节，因此最多只能对256个字符进行编码。\n",
    "* 随着信息技术的发展，各国的文字都需要进行编码，常见的编码有UTF-8，GB2312，GBK，CP936。\n",
    "* 采用不同的编码意味着把同一字符存入文件时，写入的内容可能不同。\n",
    "* UTF-8编码是国际通用的编码，以8位，即1字节表示英语(兼容ASCII)，以24位即3字节表示中文及其它语言，UTF-8对全世界所有国家需要用到的字符进行了编码。\n",
    "* GB2312是中国制定的中文编码，使用1个字节表示英语，2个字节表示中文；\n",
    "* GBK是GB2312的扩充；\n",
    "* CP936是微软在GBK基础上完成的编码；\n",
    "* GB2312、GBK和CP936都是使用2个字节表示中文，UTF-8使用3个字节表示中文；\n",
    "* Unicode是编码转换的基础。\n",
    "* 在Windows平台上，input()函数从键盘输入的字符串默认为GBK编码，而Python程序的字符串编码使用#coding指定，如\n",
    "~~~ python\n",
    "#coding=utf-8\n",
    "#coding:GBK\n",
    "#-*-coding:utf-8 -*-\n",
    "~~~\n",
    "\n",
    "\n",
    "* 正则表达式是字符串处理的有力工具和技术。\n",
    "* 正则表达式使用某种预定义的模式去匹配一类具有共同特征的字符串，主要用于处理字符串，可以快速、准确地完成复杂的查找、替换等处理要求。\n",
    "* Python中，re模块提供了正则表达式操作所需要的功能。\n",
    "\n",
    "|元字符|功能说明|\n",
    "|:------:|------------------------------|\n",
    "|.|匹配除换行符以外的任意单个字符|\n",
    "|*|匹配位于*之前的字符或子模式的0次或多次出现|\n",
    "|+|匹配位于+之前的字符或子模式的1次或多次出现|\n",
    "|-|在[]之内用来表示范围|\n",
    "|&#124;|匹配位于&#124;之前或之后的字符|\n",
    "|^|匹配行首，匹配以^后面的字符开头的字符串|\n",
    "|&#36;|匹配行尾，匹配以$之前的字符结束的字符串|\n",
    "|?|匹配位于?之前的0个或1个字符。当此字符紧随任何其他限定符<br>（*、+、?、{n}、{n,}、{n,m}）之后时，匹配模式是“非贪心的”。<br>“非贪心的”模式匹配搜索到的、尽可能短的字符串，而默认的<br>“贪心的”模式匹配搜索到的、尽可能长的字符串。<br>例如，在字符串“oooo”中，“o+?”只匹配单个“o”，而“o+”匹配所有“o”|\n",
    "| \\ |表示位于\\之后的为转义字符|\n",
    "|\\num|此处的num是一个正整数。例如，“(.)\\1”匹配两个连续的相同字符|\n",
    "|\\f|换页符匹配|\n",
    "|\\n|换行符匹配|\n",
    "|\\r|匹配一个回车符|\n",
    "|\\b|匹配单词头或单词尾|\n",
    "|\\B|与\\b含义相反\\b含义相反|\n",
    "|\\d|匹配任何数字，相当于[0-9]|\n",
    "|\\D|与\\d含义相反，等效于[^0-9]|\n",
    "|\\s|匹配任何空白字符，包括空格、制表符、换页符，与 [ \\f\\n\\r\\t\\v] 等效|\n",
    "|\\S|与\\s含义相反|\n",
    "|\\w|匹配任何字母、数字以及下划线，相当于[a-zA-Z0-9_]|\n",
    "|\\W|与\\w含义相反\\w含义相反，与“[^A-Za-z0-9_]”等效|\n",
    "|()|将位于()内的内容作为一个整体来对待|\n",
    "|{}|按{}中的次数进行匹配|\n",
    "|[]|匹配位于[]中的任意一个字符|\n",
    "|[^xyz]|反向字符集，匹配除x、y、z之外的任何字符|\n",
    "|[a-z]|字符范围，匹配指定范围内的任何字符|\n",
    "|[^a-z]|反向范围字符，匹配除小写英文字母之外的任何字符|"
   ]
  },
  {
   "cell_type": "markdown",
   "metadata": {},
   "source": [
    "常见在线正则表达式测试\n",
    "* [在线工具http://tool.lu/regex/](http://tool.lu/regex/) \n",
    "* [正则表达式30分钟入门教程](http://www.cnblogs.com/hustskyking/archive/2013/06/04/RegExp.html) "
   ]
  },
  {
   "cell_type": "markdown",
   "metadata": {},
   "source": [
    "## For example"
   ]
  },
  {
   "cell_type": "code",
   "execution_count": 2,
   "metadata": {},
   "outputs": [
    {
     "name": "stdout",
     "output_type": "stream",
     "text": [
      "YES! We have a match!\n"
     ]
    }
   ],
   "source": [
    "import re\n",
    "#Check if the string starts with \"The\" and ends with \"Spain\":\n",
    "txt = \"The rain in Spain\"\n",
    "x = re.search(\"^The.*Spain$\", txt)\n",
    "if (x):\n",
    "  print(\"YES! We have a match!\")\n",
    "else:\n",
    "  print(\"No match\")\n"
   ]
  },
  {
   "cell_type": "code",
   "execution_count": 3,
   "metadata": {},
   "outputs": [
    {
     "name": "stdout",
     "output_type": "stream",
     "text": [
      "['15', '27', '97', '102']\n",
      "['Jessica', 'Daniel', 'Edward', 'Oscar']\n"
     ]
    }
   ],
   "source": [
    "exampleString = '''\n",
    "Jessica is 15 years old, and Daniel is 27 years old.\n",
    "Edward is 97 years old, and his grandfather, Oscar, is 102. \n",
    "'''\n",
    "ages = re.findall(r'\\d{1,3}',exampleString)\n",
    "names = re.findall(r'[A-Z][a-z]*',exampleString)\n",
    "\n",
    "print(ages)\n",
    "print(names)"
   ]
  },
  {
   "cell_type": "markdown",
   "metadata": {},
   "source": [
    "## \"re\" Module\n",
    "\n",
    "re模块主要方法\n",
    "* compile(pattern[,flags]):创建模式对象\n",
    "* search(pattern,string[,flags]):在字符串中寻找模式\n",
    "* match(pattern,string[,flags]):从字符串的开始处匹配模式\n",
    "* findall(pattern,string[,flags]):列出字符串中模式的所有匹配项\n",
    "* split(pattern,string[,maxsplit=0]):根据模式匹配项分割字符串\n",
    "* sub(pat,repl,string[,count=0]):将字符串中所有pat的匹配项用repl替换\n",
    "* escape(string):将字符串中所有特殊正则表达式字符转义\n",
    "\n",
    "其中flags的值可以是re.l（忽略大小写）、re.L、re.M（多行匹配模式）、re.S（使元字符.也匹配换行符）、re.U（匹配Unicode字符）、re.X（忽略模式中的空格，并可以使用#注释）的不同组合（使用|进行组合）。"
   ]
  },
  {
   "cell_type": "markdown",
   "metadata": {},
   "source": [
    "### The findall() Function\n",
    "The findall() function returns a list containing all matches."
   ]
  },
  {
   "cell_type": "code",
   "execution_count": 4,
   "metadata": {},
   "outputs": [
    {
     "name": "stdout",
     "output_type": "stream",
     "text": [
      "['ai', 'ai']\n"
     ]
    }
   ],
   "source": [
    "str = \"The rain in Spain\"\n",
    "x = re.findall(\"ai\", str)\n",
    "print(x)"
   ]
  },
  {
   "cell_type": "code",
   "execution_count": 5,
   "metadata": {},
   "outputs": [
    {
     "name": "stdout",
     "output_type": "stream",
     "text": [
      "[]\n"
     ]
    }
   ],
   "source": [
    "x = re.findall(\"Portugal\", str)\n",
    "print(x)"
   ]
  },
  {
   "cell_type": "markdown",
   "metadata": {},
   "source": [
    "### The search() Function\n",
    "The search() function searches the string for a match, and returns a Match object if there is a match.\n",
    "\n",
    "If there is more than one match, only the first occurrence of the match will be returned:"
   ]
  },
  {
   "cell_type": "code",
   "execution_count": 6,
   "metadata": {},
   "outputs": [
    {
     "data": {
      "text/plain": [
       "<re.Match object; span=(3, 4), match=' '>"
      ]
     },
     "execution_count": 6,
     "metadata": {},
     "output_type": "execute_result"
    }
   ],
   "source": [
    "str = \"The rain in Spain\"\n",
    "x = re.search(\"\\s\", str)\n",
    "x\n",
    "#print(\"The first white-space character is located in position:\", x.start())"
   ]
  },
  {
   "cell_type": "markdown",
   "metadata": {},
   "source": [
    "### The split() Function\n",
    "The split() function returns a list where the string has been split at each match:"
   ]
  },
  {
   "cell_type": "code",
   "execution_count": 3,
   "metadata": {},
   "outputs": [
    {
     "name": "stdout",
     "output_type": "stream",
     "text": [
      "['The', 'rain', 'in', 'Spain']\n"
     ]
    }
   ],
   "source": [
    "str = \"The rain in Spain\"\n",
    "x = re.split(\"\\s\", str)\n",
    "print(x)"
   ]
  },
  {
   "cell_type": "code",
   "execution_count": 7,
   "metadata": {},
   "outputs": [
    {
     "name": "stdout",
     "output_type": "stream",
     "text": [
      "['The', 'rain in Spain']\n"
     ]
    }
   ],
   "source": [
    "str = \"The rain in Spain\"\n",
    "x = re.split(\"\\s\", str, 1)\n",
    "print(x)"
   ]
  },
  {
   "cell_type": "markdown",
   "metadata": {},
   "source": [
    "### The sub() Function\n",
    "The sub() function replaces the matches with the text of your choice:"
   ]
  },
  {
   "cell_type": "code",
   "execution_count": 8,
   "metadata": {},
   "outputs": [
    {
     "name": "stdout",
     "output_type": "stream",
     "text": [
      "The9rain9in9Spain\n"
     ]
    }
   ],
   "source": [
    "str = \"The rain in Spain\"\n",
    "x = re.sub(\"\\s\", \"9\", str)\n",
    "print(x)"
   ]
  },
  {
   "cell_type": "code",
   "execution_count": 9,
   "metadata": {},
   "outputs": [
    {
     "name": "stdout",
     "output_type": "stream",
     "text": [
      "The9rain9in Spain\n"
     ]
    }
   ],
   "source": [
    "str = \"The rain in Spain\"\n",
    "x = re.sub(\"\\s\", \"9\", str, 2)\n",
    "print(x)"
   ]
  },
  {
   "cell_type": "markdown",
   "metadata": {},
   "source": [
    "## Match Object\n",
    "A Match Object is an object containing information about the search and the result."
   ]
  },
  {
   "cell_type": "code",
   "execution_count": 10,
   "metadata": {},
   "outputs": [
    {
     "name": "stdout",
     "output_type": "stream",
     "text": [
      "<re.Match object; span=(5, 7), match='ai'>\n"
     ]
    }
   ],
   "source": [
    "str = \"The rain in Spain\"\n",
    "x = re.search(\"ai\", str)\n",
    "print(x) #this will print an object"
   ]
  },
  {
   "cell_type": "code",
   "execution_count": 6,
   "metadata": {},
   "outputs": [
    {
     "data": {
      "text/plain": [
       "<re.Match object; span=(0, 6), match='Händel'>"
      ]
     },
     "execution_count": 6,
     "metadata": {},
     "output_type": "execute_result"
    }
   ],
   "source": [
    "#import re\n",
    "re.search(\"H(a|ae|ä)ndel\", 'Händel')"
   ]
  },
  {
   "cell_type": "markdown",
   "metadata": {},
   "source": [
    "The Match object has properties and methods used to retrieve information about the search, and the result:\n",
    "\n",
    "* .span() returns a tuple containing the start-, and end positions of the match.\n",
    "* .string returns the string passed into the function\n",
    "* .group() returns the part of the string where there was a match"
   ]
  },
  {
   "cell_type": "code",
   "execution_count": 11,
   "metadata": {},
   "outputs": [
    {
     "name": "stdout",
     "output_type": "stream",
     "text": [
      "(12, 17)\n"
     ]
    }
   ],
   "source": [
    "str = \"The rain in Spain\"\n",
    "x = re.search(r\"\\bS\\w+\", str)\n",
    "print(x.span())"
   ]
  },
  {
   "cell_type": "code",
   "execution_count": 12,
   "metadata": {},
   "outputs": [
    {
     "name": "stdout",
     "output_type": "stream",
     "text": [
      "The rain in Spain\n"
     ]
    }
   ],
   "source": [
    "str = \"The rain in Spain\"\n",
    "x = re.search(r\"\\bS\\w+\", str)\n",
    "print(x.string)"
   ]
  },
  {
   "cell_type": "code",
   "execution_count": 13,
   "metadata": {},
   "outputs": [
    {
     "name": "stdout",
     "output_type": "stream",
     "text": [
      "Spain\n"
     ]
    }
   ],
   "source": [
    "str = \"The rain in Spain\"\n",
    "x = re.search(r\"\\bS\\w+\", str)\n",
    "print(x.group())"
   ]
  },
  {
   "cell_type": "markdown",
   "metadata": {},
   "source": [
    "## Regular Expression Pattern"
   ]
  },
  {
   "cell_type": "code",
   "execution_count": 9,
   "metadata": {},
   "outputs": [
    {
     "data": {
      "text/plain": [
       "['ooooo']"
      ]
     },
     "execution_count": 9,
     "metadata": {},
     "output_type": "execute_result"
    }
   ],
   "source": [
    "re.findall('o+','ooooo')\n",
    "#re.findall('o+?','ooooo')"
   ]
  },
  {
   "cell_type": "code",
   "execution_count": 15,
   "metadata": {},
   "outputs": [
    {
     "data": {
      "text/plain": [
       "['industry', 'industries']"
      ]
     },
     "execution_count": 15,
     "metadata": {},
     "output_type": "execute_result"
    }
   ],
   "source": [
    "txt='one industry, two industries.'\n",
    "re.findall('industr(?:y|ies)',txt)"
   ]
  },
  {
   "cell_type": "code",
   "execution_count": 16,
   "metadata": {},
   "outputs": [
    {
     "data": {
      "text/plain": [
       "['Windows', 'Windows', 'Windows']"
      ]
     },
     "execution_count": 16,
     "metadata": {},
     "output_type": "execute_result"
    }
   ],
   "source": [
    "txt='Windows2000 WindowsXP Windows10 Windows3.1'\n",
    "re.findall('Windows(?=2000|10|XP)',txt)"
   ]
  },
  {
   "cell_type": "code",
   "execution_count": 17,
   "metadata": {},
   "outputs": [
    {
     "data": {
      "text/plain": [
       "['Windows']"
      ]
     },
     "execution_count": 17,
     "metadata": {},
     "output_type": "execute_result"
    }
   ],
   "source": [
    "txt='Windows2000 WindowsXP Windows10 Windows3.1'\n",
    "re.findall('Windows(?!2000|10|XP)',txt)"
   ]
  },
  {
   "cell_type": "code",
   "execution_count": 18,
   "metadata": {},
   "outputs": [
    {
     "data": {
      "text/plain": [
       "['Windows', 'Windows', 'Windows']"
      ]
     },
     "execution_count": 18,
     "metadata": {},
     "output_type": "execute_result"
    }
   ],
   "source": [
    "txt='2000Windows XPWindows 10Windows 3.1Windows'\n",
    "re.findall('(?:(?<=2000)|(?<=10)|(?<=XP))Windows',txt)"
   ]
  },
  {
   "cell_type": "code",
   "execution_count": 19,
   "metadata": {},
   "outputs": [
    {
     "data": {
      "text/plain": [
       "['Windows']"
      ]
     },
     "execution_count": 19,
     "metadata": {},
     "output_type": "execute_result"
    }
   ],
   "source": [
    "txt='2000Windows XPWindows 10Windows 3.1Windows'\n",
    "re.findall('(?<!2000)(?<!10)(?<!XP)Windows',txt)"
   ]
  },
  {
   "cell_type": "markdown",
   "metadata": {},
   "source": [
    "## Regular Expression Applications\n",
    "### Writing a Tokenizer\n",
    "A tokenizer or scanner analyzes a string to categorize groups of characters. This is a useful first step in writing a compiler or interpreter.\n",
    "\n",
    "The text categories are specified with regular expressions. The technique is to combine those into a single master regular expression and to loop over successive matches:"
   ]
  },
  {
   "cell_type": "code",
   "execution_count": 20,
   "metadata": {},
   "outputs": [
    {
     "name": "stdout",
     "output_type": "stream",
     "text": [
      "Token(type='IF', value='IF', line=2, column=4)\n",
      "Token(type='ID', value='quantity', line=2, column=7)\n",
      "Token(type='THEN', value='THEN', line=2, column=16)\n",
      "Token(type='ID', value='total', line=3, column=8)\n",
      "Token(type='ASSIGN', value=':=', line=3, column=14)\n",
      "Token(type='ID', value='total', line=3, column=17)\n",
      "Token(type='OP', value='+', line=3, column=23)\n",
      "Token(type='ID', value='price', line=3, column=25)\n",
      "Token(type='OP', value='*', line=3, column=31)\n",
      "Token(type='ID', value='quantity', line=3, column=33)\n",
      "Token(type='END', value=';', line=3, column=41)\n",
      "Token(type='ID', value='tax', line=4, column=8)\n",
      "Token(type='ASSIGN', value=':=', line=4, column=12)\n",
      "Token(type='ID', value='price', line=4, column=15)\n",
      "Token(type='OP', value='*', line=4, column=21)\n",
      "Token(type='NUMBER', value=0.05, line=4, column=23)\n",
      "Token(type='END', value=';', line=4, column=27)\n",
      "Token(type='ENDIF', value='ENDIF', line=5, column=4)\n",
      "Token(type='END', value=';', line=5, column=9)\n"
     ]
    }
   ],
   "source": [
    "import collections\n",
    "import re\n",
    "\n",
    "Token = collections.namedtuple('Token', ['type', 'value', 'line', 'column'])\n",
    "\n",
    "def tokenize(code):\n",
    "    keywords = {'IF', 'THEN', 'ENDIF', 'FOR', 'NEXT', 'GOSUB', 'RETURN'}\n",
    "    token_specification = [\n",
    "        ('NUMBER',   r'\\d+(\\.\\d*)?'),  # Integer or decimal number\n",
    "        ('ASSIGN',   r':='),           # Assignment operator\n",
    "        ('END',      r';'),            # Statement terminator\n",
    "        ('ID',       r'[A-Za-z]+'),    # Identifiers\n",
    "        ('OP',       r'[+\\-*/]'),      # Arithmetic operators\n",
    "        ('NEWLINE',  r'\\n'),           # Line endings\n",
    "        ('SKIP',     r'[ \\t]+'),       # Skip over spaces and tabs\n",
    "        ('MISMATCH', r'.'),            # Any other character\n",
    "    ]\n",
    "    tok_regex = '|'.join('(?P<%s>%s)' % pair for pair in token_specification)\n",
    "    line_num = 1\n",
    "    line_start = 0\n",
    "    for mo in re.finditer(tok_regex, code):\n",
    "        kind = mo.lastgroup\n",
    "        value = mo.group()\n",
    "        column = mo.start() - line_start\n",
    "        if kind == 'NUMBER':\n",
    "            value = float(value) if '.' in value else int(value)\n",
    "        elif kind == 'ID' and value in keywords:\n",
    "            kind = value\n",
    "        elif kind == 'NEWLINE':\n",
    "            line_start = mo.end()\n",
    "            line_num += 1\n",
    "            continue\n",
    "        elif kind == 'SKIP':\n",
    "            continue\n",
    "        elif kind == 'MISMATCH':\n",
    "            raise RuntimeError(f'{value!r} unexpected on line {line_num}')\n",
    "        yield Token(kind, value, line_num, column)\n",
    "\n",
    "statements = '''\n",
    "    IF quantity THEN\n",
    "        total := total + price * quantity;\n",
    "        tax := price * 0.05;\n",
    "    ENDIF;\n",
    "'''\n",
    "\n",
    "for token in tokenize(statements):\n",
    "    print(token)"
   ]
  },
  {
   "cell_type": "markdown",
   "metadata": {},
   "source": [
    "### Obtain information from html"
   ]
  },
  {
   "cell_type": "code",
   "execution_count": 21,
   "metadata": {},
   "outputs": [],
   "source": [
    "html = u\"\"\"\n",
    "<!DOCTYPE html>\n",
    "<html lang=\"en\">\n",
    "<head>\n",
    "    <meta charset=\"UTF-8\">\n",
    "    <title>文章的标题</title>\n",
    "</head>\n",
    "<body>\n",
    "    <div id=\"app\" class=\"container\">\n",
    "        <h1>h1文字</h1>\n",
    "\n",
    "        <label for=\"input\">Input</label>\n",
    "        <textarea id=\"input\" rows=\"10\" class=\"form-control\">\n",
    "</body>\n",
    "</html>\n",
    "\"\"\""
   ]
  },
  {
   "cell_type": "code",
   "execution_count": 22,
   "metadata": {},
   "outputs": [
    {
     "name": "stdout",
     "output_type": "stream",
     "text": [
      "文章的标题\n"
     ]
    }
   ],
   "source": [
    "pattern = '<title>(.*?)</title>'\n",
    "print(re.findall(pattern,html,flags=re.S)[0])"
   ]
  },
  {
   "cell_type": "code",
   "execution_count": 3,
   "metadata": {},
   "outputs": [
    {
     "data": {
      "text/plain": [
       "4"
      ]
     },
     "execution_count": 3,
     "metadata": {},
     "output_type": "execute_result"
    }
   ],
   "source": [
    "h=u\"\"\" abc\"\"\"\n",
    "len(h)"
   ]
  },
  {
   "cell_type": "markdown",
   "metadata": {},
   "source": [
    "# Classes"
   ]
  },
  {
   "cell_type": "markdown",
   "metadata": {},
   "source": [
    "Variables, Lists, Dictionaries etc in python are objects. Without getting into the theory part of Object Oriented Programming, explanation of the concepts will be done along this tutorial.\n",
    "\n",
    "* 面向对象程序设计（Object Oriented Programming，OOP）的思想主要针对大型软件设计而提出，使得软件设计更加灵活，能够很好地支持代码复用和设计复用，并且使得代码具有更好的可读性和可扩展性。面向对象程序设计的一条基本原则是计算机程序由多个能够起到子程序作用的单元或对象组合而成，这大大地降低了软件开发的难度，使得编程就像搭积木一样简单。面向对象程序设计的一个关键性观念是将数据以及对数据的操作封装在一起，组成一个相互依存、不可分割的整体，即对象。对于相同类型的对象进行分类、抽象后，得出共同的特征而形成了类，面向对象程序设计的关键就是如何合理地定义和组织这些类以及类之间的关系。\n",
    "* Python完全采用了面向对象程序设计的思想，是真正面向对象的高级动态编程语言，完全支持面向对象的基本功能，如封装、继承、多态以及对基类方法的覆盖或重写。但与其他面向对象程序设计语言不同的是，Python中对象的概念很广泛，Python中的一切内容都可以称为对象例如，字符串、列表、字典、元组等内置数据类型都具有和类完全相似的语法和用法。创建类时用变量形式表示的对象属性称为数据成员或成员属性，用函数形式表示的对象行为称为成员函数或成员方法，成员属性和成员方法统称为类的成员。"
   ]
  },
  {
   "cell_type": "markdown",
   "metadata": {},
   "source": [
    "## 类的定义语法\n",
    "\n",
    "Python使用class关键字来定义类，class关键字之后是一个空格，然后是类的名字，再然后是一个冒号，最后换行并定义类的内部实现。类名的首字母一般要大写，当然您也可以按照自己的习惯定义类名，但是一般推荐参考惯例来命名，并在整个系统的设计和实现中保持风格一致，这一点对于团队合作尤其重要。例如："
   ]
  },
  {
   "cell_type": "markdown",
   "metadata": {},
   "source": [
    "A class is declared as follows\n",
    "```python\n",
    "class class_name:\n",
    "    methods (functions)```\n"
   ]
  },
  {
   "cell_type": "code",
   "execution_count": 12,
   "metadata": {},
   "outputs": [],
   "source": [
    "class FirstClass:\n",
    "    \"This is an empty class\"\n",
    "    pass"
   ]
  },
  {
   "cell_type": "markdown",
   "metadata": {},
   "source": [
    "**pass** in python means do nothing. The string defines the documentation of the class, accessible via `help(FirstClass)`\n",
    "\n",
    "Python提供了一个关键字“pass”，类似于空语句，可以用在类和函数的定义中或者选择结构中。当暂时没有确定如何实现功能，或者为以后的软件升级预留空间，或者其他类型功能时，可以使用该关键字来“占位”。"
   ]
  },
  {
   "cell_type": "markdown",
   "metadata": {},
   "source": [
    "Above, a class object named \"FirstClass\" is declared now consider a \"egclass\" which has all the characteristics of \"FirstClass\". So all you have to do is, equate the \"egclass\" to \"FirstClass\". In python jargon this is called as creating an instance. \"egclass\" is the instance of \"FirstClass\"\n",
    "\n",
    "定义了类之后，可以用来实例化对象，并通过“对象名.成员”的方式来访问其中的数据成员或成员方法"
   ]
  },
  {
   "cell_type": "code",
   "execution_count": 13,
   "metadata": {},
   "outputs": [],
   "source": [
    "egclass = FirstClass()"
   ]
  },
  {
   "cell_type": "code",
   "execution_count": 14,
   "metadata": {},
   "outputs": [
    {
     "data": {
      "text/plain": [
       "__main__.FirstClass"
      ]
     },
     "execution_count": 14,
     "metadata": {},
     "output_type": "execute_result"
    }
   ],
   "source": [
    "type(egclass)"
   ]
  },
  {
   "cell_type": "code",
   "execution_count": 15,
   "metadata": {},
   "outputs": [
    {
     "data": {
      "text/plain": [
       "type"
      ]
     },
     "execution_count": 15,
     "metadata": {},
     "output_type": "execute_result"
    }
   ],
   "source": [
    "type(FirstClass)"
   ]
  },
  {
   "cell_type": "markdown",
   "metadata": {},
   "source": [
    "Objects (instances of a class) can hold data. A variable in an object is also called a field or an attribute. To access a field use the notation `object.field`. For example:x\n",
    "\n",
    "对象(类的实例)可以保存数据。对象中的变量也称为字段或属性。要访问字段，请使用`object.field`符号"
   ]
  },
  {
   "cell_type": "code",
   "execution_count": 16,
   "metadata": {},
   "outputs": [
    {
     "name": "stdout",
     "output_type": "stream",
     "text": [
      "x in object 1 = 5 x in object 2= 6 global x = 7\n"
     ]
    }
   ],
   "source": [
    "obj1 = FirstClass()\n",
    "obj2 = FirstClass()\n",
    "obj1.x = 5\n",
    "obj2.x = 6\n",
    "x = 7\n",
    "print(\"x in object 1 =\",obj1.x,\"x in object 2=\",obj2.x,\"global x =\",x)"
   ]
  },
  {
   "cell_type": "markdown",
   "metadata": {},
   "source": [
    "Now let us add some \"functionality\" to the class.  A function inside a class is called as a \"Method方法\" of that class\n",
    "\n",
    "在Python中，函数和方法是有区别的。**方法**一般指与特定实例绑定的函数，通过对象调用方法时，对象本身将被作为第一个参数传递过去；**普通函数**并不具备这个特点。"
   ]
  },
  {
   "cell_type": "code",
   "execution_count": 28,
   "metadata": {},
   "outputs": [
    {
     "name": "stdout",
     "output_type": "stream",
     "text": [
      "one = 1 two = 2 three = 3\n"
     ]
    }
   ],
   "source": [
    "class Counter:\n",
    "    def reset(self,init=0):\n",
    "        self.count = init\n",
    "    def getCount(self):\n",
    "        self.count += 1\n",
    "        return self.count\n",
    "counter = Counter()\n",
    "counter.reset(0)\n",
    "print(\"one =\",counter.getCount(),\"two =\",counter.getCount(),\"three =\",counter.getCount())"
   ]
  },
  {
   "cell_type": "markdown",
   "metadata": {},
   "source": [
    "Note that the `reset()` and function and the `getCount()` method are callled with one less argument than they are declared with. The `self` argument is set by Python to the calling object. Here `counter.reset(0)` is equivalent to `Counter.reset(counter,0)`.\n",
    "\n",
    "类的所有实例方法都必须至少有一个名为`self`的参数，并且必须是方法的第一个形参（如果有多个形参的话），`self`参数代表将来要创建的对象本身。在类的实例方法中访问实例属性时需要以`self`为前缀，但在外部通过对象名调用对象方法时并不需要传递这个参数`counter.reset(0)`，如果在外部通过类名调用对象方法则需要显式为self参数传值`Counter.reset(counter,0)`。\n",
    "\n",
    "Using **self** as the name of the first argument of a method is simply a common convention. Python allows any name to be used.\n",
    "\n",
    "在Python中，在类中定义实例方法时将第一个参数定义为“self”只是一个习惯，而实际上类的实例方法中第一个参数的名字是可以变化的，而不必须使用“self”这个名字\n",
    "\n",
    "Note that here it would be better if we could initialise Counter objects immediately with a default value of `count` rather than having to call `reset()`. A constructor method is declared in Python with the special name `__init__`:\n",
    "\n",
    "默认值初始化对象，在构造函数`__init__`中声明"
   ]
  },
  {
   "cell_type": "code",
   "execution_count": 29,
   "metadata": {},
   "outputs": [],
   "source": [
    "class FirstClass:\n",
    "    def __init__(self,name,symbol):\n",
    "        self.name = name      \n",
    "        self.symbol = symbol"
   ]
  },
  {
   "cell_type": "markdown",
   "metadata": {},
   "source": [
    "Now that we have defined a function and added the \\_\\_init\\_\\_ method. We can create a instance of FirstClass which now accepts two arguments. "
   ]
  },
  {
   "cell_type": "code",
   "execution_count": 30,
   "metadata": {},
   "outputs": [],
   "source": [
    "eg1 = FirstClass('one',1)\n",
    "eg2 = FirstClass('two',2)"
   ]
  },
  {
   "cell_type": "code",
   "execution_count": 31,
   "metadata": {},
   "outputs": [
    {
     "name": "stdout",
     "output_type": "stream",
     "text": [
      "one 1\n",
      "two 2\n"
     ]
    }
   ],
   "source": [
    "print(eg1.name, eg1.symbol)\n",
    "print(eg2.name, eg2.symbol)"
   ]
  },
  {
   "cell_type": "markdown",
   "metadata": {},
   "source": [
    "**dir( )** function comes very handy in looking into what the class contains and what all method it offers\n",
    "\n",
    "**dir(a)** 查看对象a的成员"
   ]
  },
  {
   "cell_type": "code",
   "execution_count": 32,
   "metadata": {},
   "outputs": [
    {
     "name": "stdout",
     "output_type": "stream",
     "text": [
      "Contents of Counter class: ['__class__', '__delattr__', '__dict__', '__dir__', '__doc__', '__eq__', '__format__', '__ge__', '__getattribute__', '__gt__', '__hash__', '__init__', '__init_subclass__', '__le__', '__lt__', '__module__', '__ne__', '__new__', '__reduce__', '__reduce_ex__', '__repr__', '__setattr__', '__sizeof__', '__str__', '__subclasshook__', '__weakref__', 'getCount', 'reset']\n",
      "Contents of counter object: ['__class__', '__delattr__', '__dict__', '__dir__', '__doc__', '__eq__', '__format__', '__ge__', '__getattribute__', '__gt__', '__hash__', '__init__', '__init_subclass__', '__le__', '__lt__', '__module__', '__ne__', '__new__', '__reduce__', '__reduce_ex__', '__repr__', '__setattr__', '__sizeof__', '__str__', '__subclasshook__', '__weakref__', 'count', 'getCount', 'reset']\n"
     ]
    }
   ],
   "source": [
    "print(\"Contents of Counter class:\",dir(Counter) )\n",
    "print(\"Contents of counter object:\", dir(counter))"
   ]
  },
  {
   "cell_type": "markdown",
   "metadata": {},
   "source": [
    "**dir( )** of an instance also shows it's defined attributes so the object has the additional 'count' attribute. Note that Python defines several default methods for actions like comparison (`__le__` is $\\le$ operator). These and other special methods can be defined for classes to implement specific meanings for how object of that class should be compared, added, multiplied or the like."
   ]
  },
  {
   "cell_type": "markdown",
   "metadata": {
    "collapsed": true
   },
   "source": [
    "Even classes have it's own types of variables.\n",
    "\n",
    "Class Attribute : attributes defined outside the method and is applicable to all the instances.\n",
    "\n",
    "Instance Attribute : attributes defined inside a method and is applicable to only that method and is unique to each instance.\n",
    "\n",
    "在类的定义中，可以说属性有两种，一种是实例属性，另一种是类属性\n",
    "* **类属性**:方法外部定义的属性，适用于所有实例。\n",
    "* **实例属性**定义在方法内部的属性，只适用于该方法，并且对每个实例都是唯一的；\n",
    "\n",
    "在主程序中（或类的外部），**实例属性**属于实例(对象)，只能通过对象名访问；而**类属性**属于类，可以通过类名或对象名访问。\n",
    "\n",
    "在类的方法中可以调用类本身的其他方法，也可以访问类属性以及对象属性。在Python中比较特殊的是，可以动态地为类和对象增加成员，这一点是和很多面向对象程序设计语言不同的，也是Python动态类型特点的一种重要体现。\n"
   ]
  },
  {
   "cell_type": "code",
   "execution_count": 33,
   "metadata": {},
   "outputs": [],
   "source": [
    "class FirstClass:\n",
    "    test = 'test'\n",
    "    def __init__(self,n,s):\n",
    "        self.name = n\n",
    "        self.symbol = s"
   ]
  },
  {
   "cell_type": "markdown",
   "metadata": {},
   "source": [
    "Here test is a class attribute and name is a instance attribute."
   ]
  },
  {
   "cell_type": "code",
   "execution_count": 34,
   "metadata": {},
   "outputs": [],
   "source": [
    "eg3 = FirstClass('Three',3)"
   ]
  },
  {
   "cell_type": "code",
   "execution_count": 35,
   "metadata": {},
   "outputs": [
    {
     "name": "stdout",
     "output_type": "stream",
     "text": [
      "test Three 3\n"
     ]
    }
   ],
   "source": [
    "print(eg3.test,eg3.name,eg3.symbol)"
   ]
  },
  {
   "cell_type": "code",
   "execution_count": null,
   "metadata": {},
   "outputs": [],
   "source": [
    "class Car:\n",
    "    price = 100000  #定义类属性\n",
    "    def __init__(self, c):\n",
    "        self.color = c #定义实例属性"
   ]
  },
  {
   "cell_type": "code",
   "execution_count": null,
   "metadata": {},
   "outputs": [],
   "source": [
    "car1 = Car(\"Red\")\n",
    "car2 = Car(\"Blue\")\n",
    "print(car1.color, Car.price)"
   ]
  },
  {
   "cell_type": "code",
   "execution_count": null,
   "metadata": {},
   "outputs": [],
   "source": [
    "Car.price = 110000 #修改类属性\n",
    "Car.name = 'QQ' #增加类属性\n",
    "car1.color = \"Yellow\" #修改实例属性\n",
    "print(car2.color, Car.price, Car.name)\n",
    "print(car1.color, Car.price, Car.name)"
   ]
  },
  {
   "cell_type": "code",
   "execution_count": null,
   "metadata": {},
   "outputs": [],
   "source": [
    "print(car2.color, car2.price, car2.name)\n",
    "print(car1.color, car1.price, car1.name)"
   ]
  },
  {
   "cell_type": "code",
   "execution_count": null,
   "metadata": {},
   "outputs": [],
   "source": [
    "id(car1.color),id(car2.color)"
   ]
  },
  {
   "cell_type": "code",
   "execution_count": null,
   "metadata": {},
   "outputs": [],
   "source": [
    "id(car1.price),id(car2.price)"
   ]
  },
  {
   "cell_type": "code",
   "execution_count": null,
   "metadata": {},
   "outputs": [],
   "source": [
    "def setSpeed(self, s):\n",
    "    self.speed = s"
   ]
  },
  {
   "cell_type": "code",
   "execution_count": null,
   "metadata": {},
   "outputs": [],
   "source": [
    "import types\n",
    "car1.setSpeed = types.MethodType(setSpeed, Car)    #动态为对象增加成员方法"
   ]
  },
  {
   "cell_type": "code",
   "execution_count": null,
   "metadata": {},
   "outputs": [],
   "source": [
    "car1.setSpeed(50)                              #调用对象的成员方法\n",
    "print(car1.speed)"
   ]
  },
  {
   "cell_type": "code",
   "execution_count": null,
   "metadata": {},
   "outputs": [],
   "source": [
    "car2.setSpeed(50) "
   ]
  },
  {
   "cell_type": "markdown",
   "metadata": {},
   "source": [
    "**私有成员与公有成员**\n",
    "\n",
    "* Python并没有对私有成员提供严格的访问保护机制。在定义类的属性时，如果属性名以两个下划线“__”开头则表示是私有属性，否则是公有属性。私有属性在类的外部不能直接访问，需要通过调用对象的公有成员方法来访问，或者通过Python支持的特殊方式来访问。Python提供了访问私有属性的特殊方式，可用于程序的测试和调试，对于成员方法也具有同样的性质。\n",
    "* 私有属性是为了数据封装和保密而设的属性，一般只能在类的成员方法（类的内部）中使用访问，虽然Python支持一种特殊的方式来从外部直接访问类的私有成员，但是并不推荐您这样做。公有属性是可以公开使用的，既可以在类的内部进行访问，也可以在外部程序中使用。"
   ]
  },
  {
   "cell_type": "code",
   "execution_count": null,
   "metadata": {},
   "outputs": [],
   "source": [
    "class A:\n",
    "    def __init__(self, value1 = 0, value2 = 0):\n",
    "        self._value1 = value1\n",
    "        self.__value2 = value2\n",
    "    \n",
    "    def setValue(self, value1, value2):\n",
    "        self._value1 = value1\n",
    "        self.__value2 = value2\n",
    "\n",
    "    def show(self):\n",
    "        print(self._value1)\n",
    "        print(self.__value2)"
   ]
  },
  {
   "cell_type": "code",
   "execution_count": null,
   "metadata": {},
   "outputs": [],
   "source": [
    "a = A(1,2)\n",
    "a._value1"
   ]
  },
  {
   "cell_type": "code",
   "execution_count": null,
   "metadata": {},
   "outputs": [],
   "source": [
    "a.__value2 #EERROR!!!"
   ]
  },
  {
   "cell_type": "code",
   "execution_count": null,
   "metadata": {},
   "outputs": [],
   "source": [
    "a._A__value2 #在外部访问对象的私有数据成员"
   ]
  },
  {
   "cell_type": "markdown",
   "metadata": {},
   "source": [
    "* 在Python中，以下划线开头的变量名和方法名有特殊的含义，尤其是在类的定义中。用下划线作为变量名和方法名前缀和后缀来表示类的特殊成员：\n",
    "~~~ python\n",
    "_xxx：这样的对象叫做保护成员，不能用'from module import *'导入，只有类对象和子类对象能访问这些成员；\n",
    "__xxx__：系统定义的特殊成员；\n",
    "__xxx：类中的私有成员，只有类对象自己能访问，子类对象也不能访问到这个成员，但在对象外部可以通过“对象名._类名__xxx”这样的特殊方式来访问。Python中不存在严格意义上的私有成员。\n",
    "~~~"
   ]
  },
  {
   "cell_type": "code",
   "execution_count": null,
   "metadata": {},
   "outputs": [],
   "source": [
    "class Fruit:\n",
    "    def __init__(self):\n",
    "        self.__color = 'Red'\n",
    "        self.price = 1\n",
    "        \n",
    "    def getColor(self):\n",
    "        return self.__color\n",
    "    \n",
    "    def setColor(self, c):\n",
    "        self.__color = c"
   ]
  },
  {
   "cell_type": "code",
   "execution_count": null,
   "metadata": {},
   "outputs": [],
   "source": [
    "apple = Fruit()\n",
    "apple.price #显示对象公开数据成员的值"
   ]
  },
  {
   "cell_type": "code",
   "execution_count": null,
   "metadata": {},
   "outputs": [],
   "source": [
    "apple.price = 2 #修改对象公开数据成员的值\n",
    "apple.price"
   ]
  },
  {
   "cell_type": "code",
   "execution_count": null,
   "metadata": {},
   "outputs": [],
   "source": [
    "print(apple.price, apple._Fruit__color) #显示对象私有数据成员的值"
   ]
  },
  {
   "cell_type": "code",
   "execution_count": null,
   "metadata": {},
   "outputs": [],
   "source": [
    "apple._Fruit__color = \"Blue\" #修改对象私有数据成员的值\n",
    "print(apple.price, apple._Fruit__color)"
   ]
  },
  {
   "cell_type": "code",
   "execution_count": null,
   "metadata": {},
   "outputs": [],
   "source": [
    "apple.setColor('black')"
   ]
  },
  {
   "cell_type": "code",
   "execution_count": null,
   "metadata": {},
   "outputs": [],
   "source": [
    "apple.getColor()"
   ]
  },
  {
   "cell_type": "code",
   "execution_count": null,
   "metadata": {},
   "outputs": [],
   "source": [
    "print(apple.__color)"
   ]
  },
  {
   "cell_type": "markdown",
   "metadata": {},
   "source": [
    "## 方法\n",
    "* 在类中定义的方法可以粗略分为四大类：公有方法、私有方法、静态方法和类方法。\n",
    "* 其中，公有方法、私有方法都属于对象，私有方法的名字以两个下划线“__”开始，每个对象都有自己的公有方法和私有方法，在这两类方法中可以访问属于类和对象的成员；公有方法通过对象名直接调用，私有方法不能通过对象名直接调用，只能在属于对象的方法中通过“self”调用或在外部通过Python支持的特殊方式来调用。\n",
    "* 如果通过类名来调用属于对象的公有方法，需要显式为该方法的“self”参数传递一个对象名，用来明确指定访问哪个对象的数据成员。\n",
    "* 静态方法和类方法都可以通过类名和对象名调用，但不能直接访问属于对象的成员，只能访问属于类的成员。一般将“cls”作为类方法的第一个参数名称，但也可以使用其他的名字作为参数，并且在调用类方法时不需要为该参数传递值。 "
   ]
  },
  {
   "cell_type": "code",
   "execution_count": null,
   "metadata": {},
   "outputs": [],
   "source": [
    "class Root:\n",
    "    __total = 0\n",
    "    \n",
    "    def __init__(self, v):\n",
    "        self.__value = v\n",
    "        Root.__total += 1\n",
    "    \n",
    "    def show(self):\n",
    "        print('self.__value:',self.__value)\n",
    "        print('Root.__total:',Root.__total)\n",
    "        \n",
    "    @classmethod\n",
    "    def classShowTotal(cls): #类方法\n",
    "        print(cls.__total)\n",
    "        \n",
    "    @staticmethod\n",
    "    def staticShowTotal(): #静态方法\n",
    "        print(Root.__total)"
   ]
  },
  {
   "cell_type": "code",
   "execution_count": null,
   "metadata": {},
   "outputs": [],
   "source": [
    "r = Root(3)\n",
    "r.classShowTotal() #通过对象来调用类方法"
   ]
  },
  {
   "cell_type": "code",
   "execution_count": null,
   "metadata": {},
   "outputs": [],
   "source": [
    "r.staticShowTotal() #通过对象来调用静态方法"
   ]
  },
  {
   "cell_type": "code",
   "execution_count": null,
   "metadata": {},
   "outputs": [],
   "source": [
    "r.show()"
   ]
  },
  {
   "cell_type": "code",
   "execution_count": null,
   "metadata": {},
   "outputs": [],
   "source": [
    "rr = Root(5)"
   ]
  },
  {
   "cell_type": "code",
   "execution_count": null,
   "metadata": {},
   "outputs": [],
   "source": [
    "Root.classShowTotal() #通过类名调用类方法"
   ]
  },
  {
   "cell_type": "code",
   "execution_count": null,
   "metadata": {},
   "outputs": [],
   "source": [
    "Root.staticShowTotal() #通过类名调用静态方法"
   ]
  },
  {
   "cell_type": "code",
   "execution_count": null,
   "metadata": {},
   "outputs": [],
   "source": [
    "Root.show() #试图通过类名直接调用实例方法，失败"
   ]
  },
  {
   "cell_type": "code",
   "execution_count": null,
   "metadata": {},
   "outputs": [],
   "source": [
    "Root.show(r) #但是可以通过这种方法来调用方法并访问实例成员"
   ]
  },
  {
   "cell_type": "code",
   "execution_count": null,
   "metadata": {},
   "outputs": [],
   "source": [
    "r.show()"
   ]
  },
  {
   "cell_type": "code",
   "execution_count": null,
   "metadata": {},
   "outputs": [],
   "source": [
    "Root.show(rr) #通过类名调用实例方法时为self参数显式传递对象名"
   ]
  },
  {
   "cell_type": "code",
   "execution_count": null,
   "metadata": {},
   "outputs": [],
   "source": [
    "rr.show()"
   ]
  },
  {
   "cell_type": "code",
   "execution_count": null,
   "metadata": {},
   "outputs": [],
   "source": [
    "rlist = [Root(i) for i in range(10)]"
   ]
  },
  {
   "cell_type": "code",
   "execution_count": null,
   "metadata": {},
   "outputs": [],
   "source": [
    "rlist[8].show()"
   ]
  },
  {
   "cell_type": "markdown",
   "metadata": {},
   "source": [
    "## 属性\n",
    "在Python 3.x中，属性得到了较为完整的实现，支持更加全面的保护机制。"
   ]
  },
  {
   "cell_type": "markdown",
   "metadata": {},
   "source": [
    "* 例如下面的代码所示，如果设置属性为只读，则无法修改其值，也无法为对象增加与属性同名的新成员，同时，也无法删除对象属性。"
   ]
  },
  {
   "cell_type": "code",
   "execution_count": null,
   "metadata": {},
   "outputs": [],
   "source": [
    "class Test:\n",
    "    def __init__(self, value):\n",
    "        self.__value = value\n",
    "    \n",
    "    @property\n",
    "    def value(self): #只读，无法修改和删除\n",
    "        print('get value')\n",
    "        return self.__value"
   ]
  },
  {
   "cell_type": "code",
   "execution_count": null,
   "metadata": {},
   "outputs": [],
   "source": [
    "t = Test(3)"
   ]
  },
  {
   "cell_type": "code",
   "execution_count": null,
   "metadata": {},
   "outputs": [],
   "source": [
    "t.value"
   ]
  },
  {
   "cell_type": "code",
   "execution_count": null,
   "metadata": {},
   "outputs": [],
   "source": [
    "t.value = 5 #只读属性不允许修改值"
   ]
  },
  {
   "cell_type": "code",
   "execution_count": null,
   "metadata": {},
   "outputs": [],
   "source": [
    "t.v=5 #动态增加新成员\n",
    "t.v"
   ]
  },
  {
   "cell_type": "code",
   "execution_count": null,
   "metadata": {},
   "outputs": [],
   "source": [
    "del t.v #动态删除成员"
   ]
  },
  {
   "cell_type": "code",
   "execution_count": null,
   "metadata": {},
   "outputs": [],
   "source": [
    "del t.value #试图删除对象属性，失败"
   ]
  },
  {
   "cell_type": "code",
   "execution_count": null,
   "metadata": {},
   "outputs": [],
   "source": [
    "t.value"
   ]
  },
  {
   "cell_type": "markdown",
   "metadata": {},
   "source": [
    "* 下面的代码则把属性设置为可读、可修改，而不允许删除。"
   ]
  },
  {
   "cell_type": "code",
   "execution_count": null,
   "metadata": {},
   "outputs": [],
   "source": [
    "class Test:\n",
    "    def __init__(self, value):\n",
    "        self.__value = value\n",
    "    \n",
    "    def __get_value(self):\n",
    "        print('__get_value')\n",
    "        return self.__value\n",
    "    def __set_value(self, v):\n",
    "        print('__set_value')\n",
    "        self.__value = v\n",
    "    value = property(__get_value, __set_value)\n",
    "\n",
    "    def show(self):\n",
    "        print(self.__value)"
   ]
  },
  {
   "cell_type": "code",
   "execution_count": null,
   "metadata": {},
   "outputs": [],
   "source": [
    "t = Test(3)\n",
    "t.value #允许读取属性值"
   ]
  },
  {
   "cell_type": "code",
   "execution_count": null,
   "metadata": {},
   "outputs": [],
   "source": [
    "t.value = 5 #允许修改属性值\n",
    "t.value"
   ]
  },
  {
   "cell_type": "code",
   "execution_count": null,
   "metadata": {},
   "outputs": [],
   "source": [
    "t.show() #属性对应的私有变量也得到了相应的修改"
   ]
  },
  {
   "cell_type": "code",
   "execution_count": null,
   "metadata": {},
   "outputs": [],
   "source": [
    "del t.value #试图删除属性，失败"
   ]
  },
  {
   "cell_type": "markdown",
   "metadata": {},
   "source": [
    "* 也可以将属性设置为可读、可修改、可删除。"
   ]
  },
  {
   "cell_type": "code",
   "execution_count": null,
   "metadata": {},
   "outputs": [],
   "source": [
    "class Test:\n",
    "    def __init__(self, value):\n",
    "        self.__value = value\n",
    "    \n",
    "    def __get_value(self):\n",
    "        #print('__get_value')\n",
    "        return self.__value\n",
    "    def __set_value(self, v):\n",
    "        #print('__set_value')\n",
    "        self.__value = v\n",
    "    def __del_value(self):\n",
    "        #print('__del_value')\n",
    "        del self.__value\n",
    "    \n",
    "    value = property(__get_value, __set_value, __del_value)\n",
    "\n",
    "    def show(self):\n",
    "        print(self.__value)"
   ]
  },
  {
   "cell_type": "code",
   "execution_count": null,
   "metadata": {},
   "outputs": [],
   "source": [
    "t = Test(3)\n",
    "t.show()"
   ]
  },
  {
   "cell_type": "code",
   "execution_count": null,
   "metadata": {},
   "outputs": [],
   "source": [
    "t.value"
   ]
  },
  {
   "cell_type": "code",
   "execution_count": null,
   "metadata": {},
   "outputs": [],
   "source": [
    "t.value = 5\n",
    "t.show()"
   ]
  },
  {
   "cell_type": "code",
   "execution_count": null,
   "metadata": {},
   "outputs": [],
   "source": [
    "t.value"
   ]
  },
  {
   "cell_type": "code",
   "execution_count": null,
   "metadata": {},
   "outputs": [],
   "source": [
    "del t.value"
   ]
  },
  {
   "cell_type": "code",
   "execution_count": null,
   "metadata": {},
   "outputs": [],
   "source": [
    "t.value"
   ]
  },
  {
   "cell_type": "code",
   "execution_count": null,
   "metadata": {},
   "outputs": [],
   "source": [
    "t.show()"
   ]
  },
  {
   "cell_type": "code",
   "execution_count": null,
   "metadata": {},
   "outputs": [],
   "source": [
    "t.value =1 #为对象动态增加属性和对应的私有数据成员\n",
    "t.show()"
   ]
  },
  {
   "cell_type": "code",
   "execution_count": null,
   "metadata": {},
   "outputs": [],
   "source": [
    "t.value"
   ]
  },
  {
   "cell_type": "markdown",
   "metadata": {},
   "source": [
    "## 常用特殊方法\n",
    "* Python类有大量的特殊方法，其中比较常见的是构造函数和析构函数。Python中类的构造函数是__init__()，一般用来为数据成员设置初值或进行其他必要的初始化工作，在创建对象时被自动调用和执行，可以通过为构造函数定义默认值参数来实现类似于其他语言中构造函数重载的目的。如果用户没有设计构造函数，Python将提供一个默认的构造函数用来进行必要的初始化工作。Python中类的析构函数是__del__()，一般用来释放对象占用的资源，在Python删除对象和收回对象空间时被自动调用和执行。如果用户没有编写析构函数，Python将提供一个默认的析构函数进行必要的清理工作。\n",
    "\n",
    "|方法|功能说明|\n",
    "|--------|---------|\n",
    "|&#95;&#95;init&#95;&#95;()|构造函数，生成对象时调用|\n",
    "|&#95;&#95;del&#95;&#95;()|析构函数，释放对象时调用|\n",
    "|&#95;&#95;add&#95;&#95;()|+|\n",
    "|&#95;&#95;sub&#95;&#95;()|-|\n",
    "|&#95;&#95;mul&#95;&#95;()|&#42;|\n",
    "|&#95;&#95;div&#95;&#95;()&#95;&#95;、truediv&#95;&#95;()|/|\n",
    "|&#95;&#95;floordiv&#95;&#95;()|整除|\n",
    "|&#95;&#95;mod&#95;&#95;()|%|\n",
    "|&#95;&#95;pow&#95;&#95;()|**|\n",
    "|&#95;&#95;cmp&#95;&#95;()|比较运算|\n",
    "|&#95;&#95;repr&#95;&#95;()|打印、转换|\n",
    "|&#95;&#95;setitem&#95;&#95;()|按照索引赋值|\n",
    "|&#95;&#95;getitem&#95;&#95;()|按照索引获取值|\n",
    "|&#95;&#95;len&#95;&#95;()|计算长度|\n",
    "|&#95;&#95;call&#95;&#95;()|函数调用|\n",
    "|&#95;&#95;contains&#95;&#95; ()|测试是否包含某个元素|\n",
    "|&#95;&#95;eq&#95;&#95;()、 &#95;&#95;ne&#95;&#95;()、&#95;&#95;lt&#95;&#95;()、 &#95;&#95;le&#95;&#95;()、&#95;&#95;gt&#95;&#95;()|==、!=、<、<=、>|\n",
    "|&#95;&#95;str&#95;&#95;()|转化为字符串|\n",
    "|&#95;&#95;lshift&#95;&#95;()|<<|\n",
    "|&#95;&#95;and&#95;&#95;()|&|\n",
    "|&#95;&#95;iadd&#95;&#95;()|+=|"
   ]
  },
  {
   "cell_type": "markdown",
   "metadata": {},
   "source": [
    "## 案例精选\n",
    "\n",
    "在MyArray.py文件中，定义了一个数组类，重写了一部分特殊方法以支持数组之间、数组与整数之间的四则运算以及内积、大小比较、成员测试和元素访问等运算符。"
   ]
  },
  {
   "cell_type": "code",
   "execution_count": null,
   "metadata": {},
   "outputs": [],
   "source": [
    "# %load MyArray.py\n",
    "# Filename: MyArray.py\n",
    "# --------------------\n",
    "# Function description: Array and its operating\n",
    "# --------------------\n",
    "# Author: Dong Fuguo\n",
    "# QQ: 306467355\n",
    "# Email: dongfuguo2005@126.com\n",
    "#--------------------\n",
    "# Date: 2014-11-18, Updated on 2015-12-20\n",
    "# --------------------\n",
    "\n",
    "\n",
    "class MyArray:\n",
    "    '''All the elements in this array must be numbers'''\n",
    "\n",
    "    @staticmethod\n",
    "    def __IsNumber(n):\n",
    "        if isinstance(n, (int, float, complex)):\n",
    "            return True\n",
    "        return False\n",
    "\n",
    "    def __init__(self, *args):\n",
    "        if not args:\n",
    "            self.__value = []\n",
    "        else:\n",
    "            for arg in args:\n",
    "                if not self.__IsNumber(arg):\n",
    "                    print('All elements must be numbers')\n",
    "                    return\n",
    "            self.__value = list(args)\n",
    "\n",
    "    def __add__(self, n):   #数组中每个元素都与数字n相加，或两个数组相加，返回新数组\n",
    "        if self.__IsNumber(n):\n",
    "            b = MyArray()\n",
    "            for v in self.__value:\n",
    "                b.__value.append(v + n)\n",
    "            return b\n",
    "        elif isinstance(n, MyArray):\n",
    "            if len(n.__value)==len(self.__value):\n",
    "                c = MyArray()\n",
    "                for i, j in zip(self.__value, n.__value):\n",
    "                    c.__value.append(i+j)\n",
    "                return c\n",
    "            else:\n",
    "                print('Lenght not equal')                \n",
    "        else:\n",
    "            print('Not supported')\n",
    "\n",
    "    def __sub__(self, n):   #数组中每个元素都与数字n相减，返回新数组\n",
    "        if not self.__IsNumber(n):\n",
    "            print('- operating with ', type(n), ' and number type is not supported.')\n",
    "            return\n",
    "        b = MyArray()\n",
    "        for v in self.__value:\n",
    "            b.__value.append(v - n)\n",
    "        return b\n",
    "\n",
    "    def __mul__(self, n):     #数组中每个元素都与数字n相乘，返回新数组\n",
    "        if not self.__IsNumber(n):\n",
    "            print('* operating with ', type(n), ' and number type is not supported.')\n",
    "            return\n",
    "        b = MyArray()\n",
    "        for v in self.__value:\n",
    "            b.__value.append(v * n)\n",
    "        return b\n",
    "\n",
    "    def __truediv__(self, n):    #数组中每个元素都与数字n相除，返回新数组\n",
    "        if not self.__IsNumber(n):\n",
    "            print(r'/ operating with ', type(n), ' and number type is not supported.')\n",
    "            return\n",
    "        b = MyArray()\n",
    "        for v in self.__value:\n",
    "            b.__value.append(v / n)\n",
    "        return b\n",
    "\n",
    "    def __floordiv__(self, n):  #数组中每个元素都与数字n整除，返回新数组\n",
    "        if not isinstance(n, int):\n",
    "            print(n, ' is not an integer')\n",
    "            return\n",
    "        b = MyArray()\n",
    "        for v in self.__value:\n",
    "            b.__value.append(v  //  n)\n",
    "        return b\n",
    "\n",
    "    def __mod__(self, n):      #数组中每个元素都与数字n求余数，返回新数组\n",
    "        if not self.__IsNumber(n):\n",
    "            print(r'% operating with ', type(n), ' and number type is not supported.')\n",
    "            return\n",
    "        b = MyArray()\n",
    "        for v in self.__value:\n",
    "            b.__value.append(v % n)\n",
    "        return b\n",
    "\n",
    "    def __pow__(self, n):   #数组中每个元素都与数字n进行幂计算，返回新数组\n",
    "        if not self.__IsNumber(n):\n",
    "            print('** operating with ', type(n), ' and number type is not supported.')\n",
    "            return\n",
    "        b = MyArray()\n",
    "        for v in self.__value:\n",
    "            b.__value.append(v ** n)\n",
    "        return b\n",
    "\n",
    "    def __len__(self):        \n",
    "        return len(self.__value)\n",
    "\n",
    "    #for: x\n",
    "    #when use the object as a statement directly, the function will be called\n",
    "    def __repr__(self):\n",
    "        #equivalent to return `self.__value`\n",
    "        return 'MyArray:' + repr(self.__value)\n",
    "\n",
    "    #for: print(x)\n",
    "    def __str__(self):\n",
    "        return str(self.__value)\n",
    "\n",
    "    def append(self, v):    #追加元素\n",
    "        if not self.__IsNumber(v):\n",
    "            print('Only number can be appended.')\n",
    "            return\n",
    "        self.__value.append(v)\n",
    "\n",
    "    def __getitem__(self, index):  #获取指定位置的元素值\n",
    "        if isinstance(index, int) and 0 <= index < len(self.__value):\n",
    "            return self.__value[index]\n",
    "        else:\n",
    "            print('Index out of range.')\n",
    "\n",
    "    def __setitem__(self, index, v):  #设置指定位置的元素值\n",
    "        if not self.__IsNumber(v):\n",
    "            print(v, ' is not a number')\n",
    "        elif (not isinstance(index, int)) or index<0 or index>=len(self.__value):\n",
    "            print('Index type error or out of range')\n",
    "        else:\n",
    "            self.__value[index] = v\n",
    "\n",
    "    #member test. support the keyword 'in'\n",
    "    def __contains__(self, v):        #测试是否包含特定元素\n",
    "        if v in self.__value:\n",
    "            return True\n",
    "        return False\n",
    "\n",
    "    #dot product\n",
    "    def dot(self, v):                 #模拟向量内积\n",
    "        if not isinstance(v, MyArray):\n",
    "            print(v, ' must be an instance of MyArray.')\n",
    "            return\n",
    "        if len(v) != len(self.__value):\n",
    "            print('The size must be equal.')\n",
    "            return\n",
    "        b = MyArray()\n",
    "        for m, n in zip(v.__value, self.__value):\n",
    "            b.__value.append(m * n)\n",
    "        return sum(b.__value)\n",
    "\n",
    "    #equal to\n",
    "    def __eq__(self, v):\n",
    "        if not isinstance(v, MyArray):\n",
    "            print(v, ' must be an instance of MyArray.')\n",
    "            return False\n",
    "        if self.__value == v.__value:\n",
    "            return True\n",
    "        return False\n",
    "\n",
    "    #less than\n",
    "    def __lt__(self, v):\n",
    "        if not isinstance(v, MyArray):\n",
    "            print(v, ' must be an instance of MyArray.')\n",
    "            return False\n",
    "        if self.__value < v.__value:\n",
    "            return True\n",
    "        return False\n",
    "\n",
    "if __name__ == '__main__':\n",
    "    print('Please use me as a module.')\n"
   ]
  },
  {
   "cell_type": "code",
   "execution_count": 18,
   "metadata": {},
   "outputs": [
    {
     "ename": "NameError",
     "evalue": "name 'MyArray' is not defined",
     "output_type": "error",
     "traceback": [
      "\u001b[1;31m---------------------------------------------------------------------------\u001b[0m",
      "\u001b[1;31mNameError\u001b[0m                                 Traceback (most recent call last)",
      "\u001b[1;32m<ipython-input-18-09c5c9ff710c>\u001b[0m in \u001b[0;36m<module>\u001b[1;34m\u001b[0m\n\u001b[0;32m      1\u001b[0m \u001b[1;32mimport\u001b[0m \u001b[0mimp\u001b[0m\u001b[1;33m\u001b[0m\u001b[0m\n\u001b[1;32m----> 2\u001b[1;33m \u001b[0mimp\u001b[0m\u001b[1;33m.\u001b[0m\u001b[0mreload\u001b[0m\u001b[1;33m(\u001b[0m\u001b[0mMyArray\u001b[0m\u001b[1;33m)\u001b[0m\u001b[1;33m\u001b[0m\u001b[0m\n\u001b[0m",
      "\u001b[1;31mNameError\u001b[0m: name 'MyArray' is not defined"
     ]
    }
   ],
   "source": [
    "import imp\n",
    "imp.reload(MyArray)"
   ]
  },
  {
   "cell_type": "code",
   "execution_count": 19,
   "metadata": {},
   "outputs": [],
   "source": [
    "from MyArray import MyArray\n",
    "a = MyArray(1, 2, 3, 4)\n",
    "b = MyArray(6, 5, 4, 3, 2, 1)"
   ]
  },
  {
   "cell_type": "code",
   "execution_count": 20,
   "metadata": {},
   "outputs": [
    {
     "name": "stdout",
     "output_type": "stream",
     "text": [
      "The size must be equal.\n"
     ]
    }
   ],
   "source": [
    "a.dot(b)"
   ]
  },
  {
   "cell_type": "code",
   "execution_count": 21,
   "metadata": {},
   "outputs": [],
   "source": [
    "import MyArray\n",
    "a = MyArray.MyArray(1, 2, 3, 4, 5, 6)\n",
    "b = MyArray.MyArray(6, 5, 4, 3, 2, 1)"
   ]
  },
  {
   "cell_type": "code",
   "execution_count": 22,
   "metadata": {},
   "outputs": [
    {
     "name": "stdout",
     "output_type": "stream",
     "text": [
      "MyArray:[1, 2, 3, 4, 5, 6]\n"
     ]
    }
   ],
   "source": [
    "print(repr(a))"
   ]
  },
  {
   "cell_type": "code",
   "execution_count": 23,
   "metadata": {},
   "outputs": [
    {
     "data": {
      "text/plain": [
       "(MyArray:[1, 2, 3, 4, 5, 6], MyArray:[6, 5, 4, 3, 2, 1])"
      ]
     },
     "execution_count": 23,
     "metadata": {},
     "output_type": "execute_result"
    }
   ],
   "source": [
    "a,b"
   ]
  },
  {
   "cell_type": "code",
   "execution_count": 24,
   "metadata": {},
   "outputs": [
    {
     "data": {
      "text/plain": [
       "6"
      ]
     },
     "execution_count": 24,
     "metadata": {},
     "output_type": "execute_result"
    }
   ],
   "source": [
    "len(a)"
   ]
  },
  {
   "cell_type": "code",
   "execution_count": null,
   "metadata": {},
   "outputs": [],
   "source": [
    "a + 5"
   ]
  },
  {
   "cell_type": "code",
   "execution_count": null,
   "metadata": {},
   "outputs": [],
   "source": [
    "a / 2"
   ]
  },
  {
   "cell_type": "code",
   "execution_count": null,
   "metadata": {},
   "outputs": [],
   "source": [
    "len(a)"
   ]
  },
  {
   "cell_type": "code",
   "execution_count": null,
   "metadata": {},
   "outputs": [],
   "source": [
    "a * 3"
   ]
  },
  {
   "cell_type": "code",
   "execution_count": null,
   "metadata": {},
   "outputs": [],
   "source": [
    "a ** 2"
   ]
  },
  {
   "cell_type": "code",
   "execution_count": null,
   "metadata": {},
   "outputs": [],
   "source": [
    "a.dot(b)"
   ]
  },
  {
   "cell_type": "code",
   "execution_count": null,
   "metadata": {},
   "outputs": [],
   "source": [
    "a < b"
   ]
  },
  {
   "cell_type": "code",
   "execution_count": null,
   "metadata": {},
   "outputs": [],
   "source": [
    "a > b"
   ]
  },
  {
   "cell_type": "code",
   "execution_count": null,
   "metadata": {},
   "outputs": [],
   "source": [
    "a == a"
   ]
  },
  {
   "cell_type": "code",
   "execution_count": null,
   "metadata": {},
   "outputs": [],
   "source": [
    "3 in a"
   ]
  },
  {
   "cell_type": "code",
   "execution_count": null,
   "metadata": {},
   "outputs": [],
   "source": [
    "a[0] = 8\n",
    "a"
   ]
  },
  {
   "cell_type": "markdown",
   "metadata": {},
   "source": [
    "## Inheritance"
   ]
  },
  {
   "cell_type": "markdown",
   "metadata": {},
   "source": [
    "There might be cases where a new class would have all the previous characteristics of an already defined class. So the new class can \"inherit\" the previous class and add it's own methods to it. This is called as inheritance.\n",
    "\n",
    "**继承机制**\n",
    "\n",
    "* 继承是为代码复用和设计复用而设计的，是面向对象程序设计的重要特性之一。当我们设计一个新类时，如果可以继承一个已有的设计良好的类然后进行二次开发，无疑会大幅度减少开发工作量。在继承关系中，已有的、设计好的类称为父类或基类，新设计的类称为子类或派生类。派生类可以继承父类的公有成员，但是不能继承其私有成员。如果需要在派生类中调用基类的方法，可以使用内置函数super()或者通过“基类名.方法名()”的方式来实现这一目的。\n",
    "* Python支持多继承，如果父类中有相同的方法名，而在子类中使用时没有指定父类名，则Python解释器将从左向右按顺序进行搜索。"
   ]
  },
  {
   "cell_type": "markdown",
   "metadata": {},
   "source": [
    "Consider class SoftwareEngineer which has a method salary."
   ]
  },
  {
   "cell_type": "code",
   "execution_count": 36,
   "metadata": {},
   "outputs": [],
   "source": [
    "class SoftwareEngineer:\n",
    "    def __init__(self,name,age):\n",
    "        self.name = name\n",
    "        self.age = age\n",
    "    def salary(self, value):\n",
    "        self.money = value\n",
    "        print(self.name,\"earns\",self.money)"
   ]
  },
  {
   "cell_type": "code",
   "execution_count": 37,
   "metadata": {},
   "outputs": [],
   "source": [
    "a = SoftwareEngineer('Kartik',26)"
   ]
  },
  {
   "cell_type": "code",
   "execution_count": 38,
   "metadata": {},
   "outputs": [
    {
     "name": "stdout",
     "output_type": "stream",
     "text": [
      "Kartik earns 40000\n"
     ]
    }
   ],
   "source": [
    "a.salary(40000)"
   ]
  },
  {
   "cell_type": "code",
   "execution_count": 39,
   "metadata": {},
   "outputs": [
    {
     "data": {
      "text/plain": [
       "['salary']"
      ]
     },
     "execution_count": 39,
     "metadata": {},
     "output_type": "execute_result"
    }
   ],
   "source": [
    "[ name for name in dir(SoftwareEngineer) if not name.startswith(\"_\")]"
   ]
  },
  {
   "cell_type": "markdown",
   "metadata": {},
   "source": [
    "Now consider another class Artist which tells us about the amount of money an artist earns and his artform."
   ]
  },
  {
   "cell_type": "code",
   "execution_count": 40,
   "metadata": {},
   "outputs": [],
   "source": [
    "class Artist:\n",
    "    def __init__(self,name,age):\n",
    "        self.name = name\n",
    "        self.age = age\n",
    "    def money(self,value):\n",
    "        self.money = value\n",
    "        print(self.name,\"earns\",self.money)\n",
    "    def artform(self, job):\n",
    "        self.job = job\n",
    "        print(self.name,\"is a\", self.job)"
   ]
  },
  {
   "cell_type": "code",
   "execution_count": 41,
   "metadata": {},
   "outputs": [],
   "source": [
    "b = Artist('Nitin',20)"
   ]
  },
  {
   "cell_type": "code",
   "execution_count": 42,
   "metadata": {},
   "outputs": [
    {
     "name": "stdout",
     "output_type": "stream",
     "text": [
      "Nitin earns 50000\n",
      "Nitin is a Musician\n"
     ]
    }
   ],
   "source": [
    "b.money(50000)\n",
    "b.artform('Musician')"
   ]
  },
  {
   "cell_type": "code",
   "execution_count": 43,
   "metadata": {},
   "outputs": [
    {
     "data": {
      "text/plain": [
       "['age', 'artform', 'job', 'money', 'name']"
      ]
     },
     "execution_count": 43,
     "metadata": {},
     "output_type": "execute_result"
    }
   ],
   "source": [
    "[ name for name in dir(b) if not name.startswith(\"_\")]"
   ]
  },
  {
   "cell_type": "markdown",
   "metadata": {},
   "source": [
    "money method and salary method are the same. So we can generalize the method to salary and inherit the SoftwareEngineer class to Artist class. Now the artist class becomes,"
   ]
  },
  {
   "cell_type": "code",
   "execution_count": 44,
   "metadata": {},
   "outputs": [],
   "source": [
    "class Artist(SoftwareEngineer):\n",
    "    def artform(self, job):\n",
    "        self.job = job\n",
    "        print(self.name,\"is a\", self.job)"
   ]
  },
  {
   "cell_type": "code",
   "execution_count": 45,
   "metadata": {},
   "outputs": [],
   "source": [
    "c = Artist('Nishanth',21)"
   ]
  },
  {
   "cell_type": "code",
   "execution_count": 46,
   "metadata": {},
   "outputs": [
    {
     "data": {
      "text/plain": [
       "['__class__',\n",
       " '__delattr__',\n",
       " '__dict__',\n",
       " '__dir__',\n",
       " '__doc__',\n",
       " '__eq__',\n",
       " '__format__',\n",
       " '__ge__',\n",
       " '__getattribute__',\n",
       " '__gt__',\n",
       " '__hash__',\n",
       " '__init__',\n",
       " '__init_subclass__',\n",
       " '__le__',\n",
       " '__lt__',\n",
       " '__module__',\n",
       " '__ne__',\n",
       " '__new__',\n",
       " '__reduce__',\n",
       " '__reduce_ex__',\n",
       " '__repr__',\n",
       " '__setattr__',\n",
       " '__sizeof__',\n",
       " '__str__',\n",
       " '__subclasshook__',\n",
       " '__weakref__',\n",
       " 'artform',\n",
       " 'salary']"
      ]
     },
     "execution_count": 46,
     "metadata": {},
     "output_type": "execute_result"
    }
   ],
   "source": [
    "dir(Artist)"
   ]
  },
  {
   "cell_type": "code",
   "execution_count": 47,
   "metadata": {},
   "outputs": [
    {
     "name": "stdout",
     "output_type": "stream",
     "text": [
      "Nishanth earns 60000\n",
      "Nishanth is a Dancer\n"
     ]
    }
   ],
   "source": [
    "c.salary(60000)\n",
    "c.artform('Dancer')"
   ]
  },
  {
   "cell_type": "markdown",
   "metadata": {},
   "source": [
    "Suppose say while inheriting a particular method is not suitable for the new class. One can override this method by defining again that method with the same name inside the new class."
   ]
  },
  {
   "cell_type": "code",
   "execution_count": 48,
   "metadata": {},
   "outputs": [],
   "source": [
    "class Artist(SoftwareEngineer):\n",
    "    def artform(self, job):\n",
    "        self.job = job\n",
    "        print(self.name,\"is a\", self.job)\n",
    "    def salary(self, value):\n",
    "        self.money = value\n",
    "        print(self.name,\"earns\",self.money)\n",
    "        print(\"I am overriding the SoftwareEngineer class's salary method\")"
   ]
  },
  {
   "cell_type": "code",
   "execution_count": 49,
   "metadata": {},
   "outputs": [],
   "source": [
    "c = Artist('Nishanth',21)"
   ]
  },
  {
   "cell_type": "code",
   "execution_count": 50,
   "metadata": {},
   "outputs": [
    {
     "name": "stdout",
     "output_type": "stream",
     "text": [
      "Nishanth earns 60000\n",
      "I am overriding the SoftwareEngineer class's salary method\n",
      "Nishanth is a Dancer\n"
     ]
    }
   ],
   "source": [
    "c.salary(60000)\n",
    "c.artform('Dancer')"
   ]
  },
  {
   "cell_type": "markdown",
   "metadata": {},
   "source": [
    "If the number of input arguments varies from instance to instance asterisk can be used as shown."
   ]
  },
  {
   "cell_type": "code",
   "execution_count": 51,
   "metadata": {},
   "outputs": [],
   "source": [
    "class NotSure:\n",
    "    def __init__(self, *args):\n",
    "        self.data = ' '.join(list(args)) "
   ]
  },
  {
   "cell_type": "code",
   "execution_count": 52,
   "metadata": {},
   "outputs": [],
   "source": [
    "yz = NotSure('I', 'Do' , 'Not', 'Know', 'What', 'To','Type')"
   ]
  },
  {
   "cell_type": "code",
   "execution_count": 53,
   "metadata": {},
   "outputs": [
    {
     "data": {
      "text/plain": [
       "'I Do Not Know What To Type'"
      ]
     },
     "execution_count": 53,
     "metadata": {},
     "output_type": "execute_result"
    }
   ],
   "source": [
    "yz.data"
   ]
  },
  {
   "cell_type": "markdown",
   "metadata": {},
   "source": [
    "### 例：设计Person类，并根据Person派生Teacher类，分别创建Person类与Teacher类的对象。"
   ]
  },
  {
   "cell_type": "code",
   "execution_count": null,
   "metadata": {},
   "outputs": [],
   "source": [
    "class Person:\n",
    "    def __init__(self, name = '', age = 20, sex = 'man'):\n",
    "        self.setName(name)\n",
    "        self.setAge(age)\n",
    "        self.setSex(sex)\n",
    "\n",
    "    def setName(self, name):\n",
    "        if not isinstance(name, str):\n",
    "            print('name must be string.')\n",
    "            return\n",
    "        self.__name = name\n",
    "        \n",
    "    def setAge(self, age):\n",
    "        if not isinstance(age, int):\n",
    "            print('age must be integer.')\n",
    "            return\n",
    "        self.__age = age\n",
    "        \n",
    "    def setSex(self, sex):\n",
    "        if sex != 'man' and sex != 'woman':\n",
    "            print('sex must be \"man\" or \"woman\"')\n",
    "            return\n",
    "        self.__sex = sex\n",
    "        \n",
    "    def show(self):\n",
    "        print('Name:', self.__name)\n",
    "        print('Age:', self.__age)\n",
    "        print('Sex:', self.__sex)"
   ]
  },
  {
   "cell_type": "code",
   "execution_count": null,
   "metadata": {},
   "outputs": [],
   "source": [
    "class Teacher(Person):\n",
    "    def __init__(self, name='', age = 30, sex = 'man', department = 'Computer'):\n",
    "        super().__init__(name, age, sex)\n",
    "        #super(Teacher, self).__init__(name, age, sex)\n",
    "        ## or, use another method like below:\n",
    "        #Person.__init__(self, name, age, sex)\n",
    "        self.setDepartment(department)\n",
    "    \n",
    "    def setDepartment(self, department):\n",
    "        if not isinstance(department, str):\n",
    "            print('department must be a string.')\n",
    "            return\n",
    "        self.__department = department\n",
    "        \n",
    "    def show(self):\n",
    "        super().show()\n",
    "        print('Department:', self.__department)"
   ]
  },
  {
   "cell_type": "code",
   "execution_count": null,
   "metadata": {},
   "outputs": [],
   "source": [
    "zhangsan = Person('Zhang San', 19, 'man')\n",
    "zhangsan.show()"
   ]
  },
  {
   "cell_type": "code",
   "execution_count": null,
   "metadata": {},
   "outputs": [],
   "source": [
    "zhangsan.setSex('test')\n",
    "zhangsan.show()"
   ]
  },
  {
   "cell_type": "code",
   "execution_count": null,
   "metadata": {},
   "outputs": [],
   "source": [
    "lisi = Teacher('Li Si',32, 'man', 'Math')\n",
    "lisi.show()"
   ]
  },
  {
   "cell_type": "code",
   "execution_count": null,
   "metadata": {},
   "outputs": [],
   "source": [
    "lisi.setAge(40)\n",
    "lisi.show()"
   ]
  },
  {
   "cell_type": "markdown",
   "metadata": {},
   "source": [
    "## Introspection\n",
    "We have already seen the `dir()` function for working out what is in a class. Python has many facilities to make introspection easy (that is working out what is in a Python object or module). Some useful functions are **hasattr**, **getattr**, and **setattr**:\n",
    "\n",
    "我们已经看到了`dir()`函数用于确定类中的内容。Python有很多让内省变得容易的工具(即找出Python对象或模块中的内容)。一些有用的函数有hasattr, getattr和setattr:"
   ]
  },
  {
   "cell_type": "code",
   "execution_count": 54,
   "metadata": {},
   "outputs": [
    {
     "name": "stdout",
     "output_type": "stream",
     "text": [
      "ns.copy = test\n"
     ]
    }
   ],
   "source": [
    "ns = NotSure('test')\n",
    "if hasattr(ns,'data'): # check if ns.data exists\n",
    "    setattr(ns,'copy', # set ns.copy\n",
    "            getattr(ns,'data')) # get ns.data\n",
    "print('ns.copy =',ns.copy)"
   ]
  },
  {
   "cell_type": "code",
   "execution_count": null,
   "metadata": {},
   "outputs": [],
   "source": []
  },
  {
   "cell_type": "code",
   "execution_count": null,
   "metadata": {},
   "outputs": [],
   "source": []
  }
 ],
 "metadata": {
  "kernelspec": {
   "display_name": "Python 3",
   "language": "python",
   "name": "python3"
  },
  "language_info": {
   "codemirror_mode": {
    "name": "ipython",
    "version": 3
   },
   "file_extension": ".py",
   "mimetype": "text/x-python",
   "name": "python",
   "nbconvert_exporter": "python",
   "pygments_lexer": "ipython3",
   "version": "3.7.0"
  },
  "latex_envs": {
   "LaTeX_envs_menu_present": true,
   "autoclose": false,
   "autocomplete": true,
   "bibliofile": "biblio.bib",
   "cite_by": "apalike",
   "current_citInitial": 1,
   "eqLabelWithNumbers": true,
   "eqNumInitial": 1,
   "hotkeys": {
    "equation": "Ctrl-E",
    "itemize": "Ctrl-I"
   },
   "labels_anchors": false,
   "latex_user_defs": false,
   "report_style_numbering": false,
   "user_envs_cfg": false
  },
  "toc": {
   "base_numbering": 1,
   "nav_menu": {},
   "number_sections": true,
   "sideBar": true,
   "skip_h1_title": false,
   "title_cell": "Table of Contents",
   "title_sidebar": "Contents",
   "toc_cell": false,
   "toc_position": {
    "height": "calc(100% - 180px)",
    "left": "10px",
    "top": "150px",
    "width": "192px"
   },
   "toc_section_display": true,
   "toc_window_display": true
  }
 },
 "nbformat": 4,
 "nbformat_minor": 1
}
